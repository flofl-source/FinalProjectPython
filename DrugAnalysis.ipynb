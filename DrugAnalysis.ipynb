{
  "nbformat": 4,
  "nbformat_minor": 0,
  "metadata": {
    "colab": {
      "name": "PROJECT_PTYHON_DATA.ipynb",
      "provenance": [],
      "collapsed_sections": []
    },
    "kernelspec": {
      "display_name": "Python 3",
      "name": "python3"
    }
  },
  "cells": [
    {
      "cell_type": "markdown",
      "metadata": {
        "id": "2V1Xcqbg00fJ"
      },
      "source": [
        "# Libraries and dataset exportation\r\n"
      ]
    },
    {
      "cell_type": "code",
      "metadata": {
        "id": "-aU7uhq4F6wt"
      },
      "source": [
        "#Export the file drug_consumption.data\r\n",
        "import matplotlib.pyplot as plt\r\n",
        "import numpy as np\r\n",
        "import seaborn as sn\r\n",
        "import pandas as pd\r\n",
        "import pickle\r\n",
        "from sklearn.model_selection import train_test_split\r\n",
        "from sklearn.linear_model import LogisticRegression\r\n",
        "from sklearn.tree import DecisionTreeClassifier\r\n",
        "from sklearn.metrics import accuracy_score\r\n",
        "from sklearn.ensemble import RandomForestClassifier\r\n",
        "from sklearn.ensemble import GradientBoostingClassifier\r\n",
        "from sklearn.neighbors import KNeighborsClassifier\r\n",
        "from sklearn.neural_network import MLPClassifier\r\n",
        "import sys\r\n",
        "from sklearn.model_selection import GridSearchCV  \r\n"
      ],
      "execution_count": null,
      "outputs": []
    },
    {
      "cell_type": "code",
      "metadata": {
        "id": "uF4zE79YpL1X"
      },
      "source": [
        "data=pd.read_csv(\"/content/drug_consumption.data\",sep=\",\",header=None) "
      ],
      "execution_count": null,
      "outputs": []
    },
    {
      "cell_type": "markdown",
      "metadata": {
        "id": "lAS5OiLR1OTQ"
      },
      "source": [
        "# Observations and data cleaning\r\n"
      ]
    },
    {
      "cell_type": "markdown",
      "metadata": {
        "id": "I9LQHOUStlUI"
      },
      "source": [
        "## First observations"
      ]
    },
    {
      "cell_type": "code",
      "metadata": {
        "colab": {
          "base_uri": "https://localhost:8080/",
          "height": 221
        },
        "id": "madO10keHWZ2",
        "outputId": "418ac362-6dff-4f2b-c80a-278cb39c0039"
      },
      "source": [
        "del data[0]\n",
        "data.head()"
      ],
      "execution_count": null,
      "outputs": [
        {
          "output_type": "execute_result",
          "data": {
            "text/html": [
              "<div>\n",
              "<style scoped>\n",
              "    .dataframe tbody tr th:only-of-type {\n",
              "        vertical-align: middle;\n",
              "    }\n",
              "\n",
              "    .dataframe tbody tr th {\n",
              "        vertical-align: top;\n",
              "    }\n",
              "\n",
              "    .dataframe thead th {\n",
              "        text-align: right;\n",
              "    }\n",
              "</style>\n",
              "<table border=\"1\" class=\"dataframe\">\n",
              "  <thead>\n",
              "    <tr style=\"text-align: right;\">\n",
              "      <th></th>\n",
              "      <th>1</th>\n",
              "      <th>2</th>\n",
              "      <th>3</th>\n",
              "      <th>4</th>\n",
              "      <th>5</th>\n",
              "      <th>6</th>\n",
              "      <th>7</th>\n",
              "      <th>8</th>\n",
              "      <th>9</th>\n",
              "      <th>10</th>\n",
              "      <th>11</th>\n",
              "      <th>12</th>\n",
              "      <th>13</th>\n",
              "      <th>14</th>\n",
              "      <th>15</th>\n",
              "      <th>16</th>\n",
              "      <th>17</th>\n",
              "      <th>18</th>\n",
              "      <th>19</th>\n",
              "      <th>20</th>\n",
              "      <th>21</th>\n",
              "      <th>22</th>\n",
              "      <th>23</th>\n",
              "      <th>24</th>\n",
              "      <th>25</th>\n",
              "      <th>26</th>\n",
              "      <th>27</th>\n",
              "      <th>28</th>\n",
              "      <th>29</th>\n",
              "      <th>30</th>\n",
              "      <th>31</th>\n",
              "    </tr>\n",
              "  </thead>\n",
              "  <tbody>\n",
              "    <tr>\n",
              "      <th>0</th>\n",
              "      <td>0.49788</td>\n",
              "      <td>0.48246</td>\n",
              "      <td>-0.05921</td>\n",
              "      <td>0.96082</td>\n",
              "      <td>0.12600</td>\n",
              "      <td>0.31287</td>\n",
              "      <td>-0.57545</td>\n",
              "      <td>-0.58331</td>\n",
              "      <td>-0.91699</td>\n",
              "      <td>-0.00665</td>\n",
              "      <td>-0.21712</td>\n",
              "      <td>-1.18084</td>\n",
              "      <td>CL5</td>\n",
              "      <td>CL2</td>\n",
              "      <td>CL0</td>\n",
              "      <td>CL2</td>\n",
              "      <td>CL6</td>\n",
              "      <td>CL0</td>\n",
              "      <td>CL5</td>\n",
              "      <td>CL0</td>\n",
              "      <td>CL0</td>\n",
              "      <td>CL0</td>\n",
              "      <td>CL0</td>\n",
              "      <td>CL0</td>\n",
              "      <td>CL0</td>\n",
              "      <td>CL0</td>\n",
              "      <td>CL0</td>\n",
              "      <td>CL0</td>\n",
              "      <td>CL2</td>\n",
              "      <td>CL0</td>\n",
              "      <td>CL0</td>\n",
              "    </tr>\n",
              "    <tr>\n",
              "      <th>1</th>\n",
              "      <td>-0.07854</td>\n",
              "      <td>-0.48246</td>\n",
              "      <td>1.98437</td>\n",
              "      <td>0.96082</td>\n",
              "      <td>-0.31685</td>\n",
              "      <td>-0.67825</td>\n",
              "      <td>1.93886</td>\n",
              "      <td>1.43533</td>\n",
              "      <td>0.76096</td>\n",
              "      <td>-0.14277</td>\n",
              "      <td>-0.71126</td>\n",
              "      <td>-0.21575</td>\n",
              "      <td>CL5</td>\n",
              "      <td>CL2</td>\n",
              "      <td>CL2</td>\n",
              "      <td>CL0</td>\n",
              "      <td>CL6</td>\n",
              "      <td>CL4</td>\n",
              "      <td>CL6</td>\n",
              "      <td>CL3</td>\n",
              "      <td>CL0</td>\n",
              "      <td>CL4</td>\n",
              "      <td>CL0</td>\n",
              "      <td>CL2</td>\n",
              "      <td>CL0</td>\n",
              "      <td>CL2</td>\n",
              "      <td>CL3</td>\n",
              "      <td>CL0</td>\n",
              "      <td>CL4</td>\n",
              "      <td>CL0</td>\n",
              "      <td>CL0</td>\n",
              "    </tr>\n",
              "    <tr>\n",
              "      <th>2</th>\n",
              "      <td>0.49788</td>\n",
              "      <td>-0.48246</td>\n",
              "      <td>-0.05921</td>\n",
              "      <td>0.96082</td>\n",
              "      <td>-0.31685</td>\n",
              "      <td>-0.46725</td>\n",
              "      <td>0.80523</td>\n",
              "      <td>-0.84732</td>\n",
              "      <td>-1.62090</td>\n",
              "      <td>-1.01450</td>\n",
              "      <td>-1.37983</td>\n",
              "      <td>0.40148</td>\n",
              "      <td>CL6</td>\n",
              "      <td>CL0</td>\n",
              "      <td>CL0</td>\n",
              "      <td>CL0</td>\n",
              "      <td>CL6</td>\n",
              "      <td>CL3</td>\n",
              "      <td>CL4</td>\n",
              "      <td>CL0</td>\n",
              "      <td>CL0</td>\n",
              "      <td>CL0</td>\n",
              "      <td>CL0</td>\n",
              "      <td>CL0</td>\n",
              "      <td>CL0</td>\n",
              "      <td>CL0</td>\n",
              "      <td>CL0</td>\n",
              "      <td>CL1</td>\n",
              "      <td>CL0</td>\n",
              "      <td>CL0</td>\n",
              "      <td>CL0</td>\n",
              "    </tr>\n",
              "    <tr>\n",
              "      <th>3</th>\n",
              "      <td>-0.95197</td>\n",
              "      <td>0.48246</td>\n",
              "      <td>1.16365</td>\n",
              "      <td>0.96082</td>\n",
              "      <td>-0.31685</td>\n",
              "      <td>-0.14882</td>\n",
              "      <td>-0.80615</td>\n",
              "      <td>-0.01928</td>\n",
              "      <td>0.59042</td>\n",
              "      <td>0.58489</td>\n",
              "      <td>-1.37983</td>\n",
              "      <td>-1.18084</td>\n",
              "      <td>CL4</td>\n",
              "      <td>CL0</td>\n",
              "      <td>CL0</td>\n",
              "      <td>CL3</td>\n",
              "      <td>CL5</td>\n",
              "      <td>CL2</td>\n",
              "      <td>CL4</td>\n",
              "      <td>CL2</td>\n",
              "      <td>CL0</td>\n",
              "      <td>CL0</td>\n",
              "      <td>CL0</td>\n",
              "      <td>CL2</td>\n",
              "      <td>CL0</td>\n",
              "      <td>CL0</td>\n",
              "      <td>CL0</td>\n",
              "      <td>CL0</td>\n",
              "      <td>CL2</td>\n",
              "      <td>CL0</td>\n",
              "      <td>CL0</td>\n",
              "    </tr>\n",
              "    <tr>\n",
              "      <th>4</th>\n",
              "      <td>0.49788</td>\n",
              "      <td>0.48246</td>\n",
              "      <td>1.98437</td>\n",
              "      <td>0.96082</td>\n",
              "      <td>-0.31685</td>\n",
              "      <td>0.73545</td>\n",
              "      <td>-1.63340</td>\n",
              "      <td>-0.45174</td>\n",
              "      <td>-0.30172</td>\n",
              "      <td>1.30612</td>\n",
              "      <td>-0.21712</td>\n",
              "      <td>-0.21575</td>\n",
              "      <td>CL4</td>\n",
              "      <td>CL1</td>\n",
              "      <td>CL1</td>\n",
              "      <td>CL0</td>\n",
              "      <td>CL6</td>\n",
              "      <td>CL3</td>\n",
              "      <td>CL6</td>\n",
              "      <td>CL0</td>\n",
              "      <td>CL0</td>\n",
              "      <td>CL1</td>\n",
              "      <td>CL0</td>\n",
              "      <td>CL0</td>\n",
              "      <td>CL1</td>\n",
              "      <td>CL0</td>\n",
              "      <td>CL0</td>\n",
              "      <td>CL2</td>\n",
              "      <td>CL2</td>\n",
              "      <td>CL0</td>\n",
              "      <td>CL0</td>\n",
              "    </tr>\n",
              "  </tbody>\n",
              "</table>\n",
              "</div>"
            ],
            "text/plain": [
              "        1        2        3        4        5   ...   27   28   29   30   31\n",
              "0  0.49788  0.48246 -0.05921  0.96082  0.12600  ...  CL0  CL0  CL2  CL0  CL0\n",
              "1 -0.07854 -0.48246  1.98437  0.96082 -0.31685  ...  CL3  CL0  CL4  CL0  CL0\n",
              "2  0.49788 -0.48246 -0.05921  0.96082 -0.31685  ...  CL0  CL1  CL0  CL0  CL0\n",
              "3 -0.95197  0.48246  1.16365  0.96082 -0.31685  ...  CL0  CL0  CL2  CL0  CL0\n",
              "4  0.49788  0.48246  1.98437  0.96082 -0.31685  ...  CL0  CL2  CL2  CL0  CL0\n",
              "\n",
              "[5 rows x 31 columns]"
            ]
          },
          "metadata": {
            "tags": []
          },
          "execution_count": 220
        }
      ]
    },
    {
      "cell_type": "markdown",
      "metadata": {
        "id": "JXyKVZkz1dAv"
      },
      "source": [
        "The columns do not have any names. Let's create them regarding to the subject"
      ]
    },
    {
      "cell_type": "code",
      "metadata": {
        "colab": {
          "base_uri": "https://localhost:8080/",
          "height": 237
        },
        "id": "Nbq0duopHeuA",
        "outputId": "9998648a-bca7-433d-bc71-e5652cb26238"
      },
      "source": [
        "\r\n",
        "data.columns=[\r\n",
        "              \"Age\",\r\n",
        "              \"Gender\",\r\n",
        "              \"Education level\",\r\n",
        "              \"Country number\",\r\n",
        "              \"Ethnicity number\",\r\n",
        "              \"Neuroticism\",\r\n",
        "              \"Extraversion\",\r\n",
        "              \"Openess to exp\",\r\n",
        "              \"Agreeableness\",\r\n",
        "              \"Conscientiousness\",\r\n",
        "              \"Impulsiveness\",\r\n",
        "              \"Sensation seeing\",\r\n",
        "              \"Alcohol consumption\",\r\n",
        "              \"Amphet consumption\",\r\n",
        "              \"Amyl consumption\",\r\n",
        "              \"Benzos consumption\",\r\n",
        "              \"Caffeine consumption\",\r\n",
        "              \"Cannabis consumption\",\r\n",
        "              \"Chocolate consumption\",\r\n",
        "              \"Coke consumption\",\r\n",
        "              \"Crack consumption\",\r\n",
        "              \"Ecstasy consumption\",\r\n",
        "              \"Heroin consumption\",\r\n",
        "              \"Ketamine consumption\",\r\n",
        "              \"Legal highs consumption\",\r\n",
        "              \"LSD consumption\",\r\n",
        "              \"Meth consumption\",\r\n",
        "              \"Mushrooms consumption\",\r\n",
        "              \"Nicotine consumption\",\r\n",
        "              \"Semeron consumption\",\r\n",
        "              \"VSA consumption\"]\r\n",
        "data.head()\r\n"
      ],
      "execution_count": null,
      "outputs": [
        {
          "output_type": "execute_result",
          "data": {
            "text/html": [
              "<div>\n",
              "<style scoped>\n",
              "    .dataframe tbody tr th:only-of-type {\n",
              "        vertical-align: middle;\n",
              "    }\n",
              "\n",
              "    .dataframe tbody tr th {\n",
              "        vertical-align: top;\n",
              "    }\n",
              "\n",
              "    .dataframe thead th {\n",
              "        text-align: right;\n",
              "    }\n",
              "</style>\n",
              "<table border=\"1\" class=\"dataframe\">\n",
              "  <thead>\n",
              "    <tr style=\"text-align: right;\">\n",
              "      <th></th>\n",
              "      <th>Age</th>\n",
              "      <th>Gender</th>\n",
              "      <th>Education level</th>\n",
              "      <th>Country number</th>\n",
              "      <th>Ethnicity number</th>\n",
              "      <th>Neuroticism</th>\n",
              "      <th>Extraversion</th>\n",
              "      <th>Openess to exp</th>\n",
              "      <th>Agreeableness</th>\n",
              "      <th>Conscientiousness</th>\n",
              "      <th>Impulsiveness</th>\n",
              "      <th>Sensation seeing</th>\n",
              "      <th>Alcohol consumption</th>\n",
              "      <th>Amphet consumption</th>\n",
              "      <th>Amyl consumption</th>\n",
              "      <th>Benzos consumption</th>\n",
              "      <th>Caffeine consumption</th>\n",
              "      <th>Cannabis consumption</th>\n",
              "      <th>Chocolate consumption</th>\n",
              "      <th>Coke consumption</th>\n",
              "      <th>Crack consumption</th>\n",
              "      <th>Ecstasy consumption</th>\n",
              "      <th>Heroin consumption</th>\n",
              "      <th>Ketamine consumption</th>\n",
              "      <th>Legal highs consumption</th>\n",
              "      <th>LSD consumption</th>\n",
              "      <th>Meth consumption</th>\n",
              "      <th>Mushrooms consumption</th>\n",
              "      <th>Nicotine consumption</th>\n",
              "      <th>Semeron consumption</th>\n",
              "      <th>VSA consumption</th>\n",
              "    </tr>\n",
              "  </thead>\n",
              "  <tbody>\n",
              "    <tr>\n",
              "      <th>0</th>\n",
              "      <td>0.49788</td>\n",
              "      <td>0.48246</td>\n",
              "      <td>-0.05921</td>\n",
              "      <td>0.96082</td>\n",
              "      <td>0.12600</td>\n",
              "      <td>0.31287</td>\n",
              "      <td>-0.57545</td>\n",
              "      <td>-0.58331</td>\n",
              "      <td>-0.91699</td>\n",
              "      <td>-0.00665</td>\n",
              "      <td>-0.21712</td>\n",
              "      <td>-1.18084</td>\n",
              "      <td>CL5</td>\n",
              "      <td>CL2</td>\n",
              "      <td>CL0</td>\n",
              "      <td>CL2</td>\n",
              "      <td>CL6</td>\n",
              "      <td>CL0</td>\n",
              "      <td>CL5</td>\n",
              "      <td>CL0</td>\n",
              "      <td>CL0</td>\n",
              "      <td>CL0</td>\n",
              "      <td>CL0</td>\n",
              "      <td>CL0</td>\n",
              "      <td>CL0</td>\n",
              "      <td>CL0</td>\n",
              "      <td>CL0</td>\n",
              "      <td>CL0</td>\n",
              "      <td>CL2</td>\n",
              "      <td>CL0</td>\n",
              "      <td>CL0</td>\n",
              "    </tr>\n",
              "    <tr>\n",
              "      <th>1</th>\n",
              "      <td>-0.07854</td>\n",
              "      <td>-0.48246</td>\n",
              "      <td>1.98437</td>\n",
              "      <td>0.96082</td>\n",
              "      <td>-0.31685</td>\n",
              "      <td>-0.67825</td>\n",
              "      <td>1.93886</td>\n",
              "      <td>1.43533</td>\n",
              "      <td>0.76096</td>\n",
              "      <td>-0.14277</td>\n",
              "      <td>-0.71126</td>\n",
              "      <td>-0.21575</td>\n",
              "      <td>CL5</td>\n",
              "      <td>CL2</td>\n",
              "      <td>CL2</td>\n",
              "      <td>CL0</td>\n",
              "      <td>CL6</td>\n",
              "      <td>CL4</td>\n",
              "      <td>CL6</td>\n",
              "      <td>CL3</td>\n",
              "      <td>CL0</td>\n",
              "      <td>CL4</td>\n",
              "      <td>CL0</td>\n",
              "      <td>CL2</td>\n",
              "      <td>CL0</td>\n",
              "      <td>CL2</td>\n",
              "      <td>CL3</td>\n",
              "      <td>CL0</td>\n",
              "      <td>CL4</td>\n",
              "      <td>CL0</td>\n",
              "      <td>CL0</td>\n",
              "    </tr>\n",
              "    <tr>\n",
              "      <th>2</th>\n",
              "      <td>0.49788</td>\n",
              "      <td>-0.48246</td>\n",
              "      <td>-0.05921</td>\n",
              "      <td>0.96082</td>\n",
              "      <td>-0.31685</td>\n",
              "      <td>-0.46725</td>\n",
              "      <td>0.80523</td>\n",
              "      <td>-0.84732</td>\n",
              "      <td>-1.62090</td>\n",
              "      <td>-1.01450</td>\n",
              "      <td>-1.37983</td>\n",
              "      <td>0.40148</td>\n",
              "      <td>CL6</td>\n",
              "      <td>CL0</td>\n",
              "      <td>CL0</td>\n",
              "      <td>CL0</td>\n",
              "      <td>CL6</td>\n",
              "      <td>CL3</td>\n",
              "      <td>CL4</td>\n",
              "      <td>CL0</td>\n",
              "      <td>CL0</td>\n",
              "      <td>CL0</td>\n",
              "      <td>CL0</td>\n",
              "      <td>CL0</td>\n",
              "      <td>CL0</td>\n",
              "      <td>CL0</td>\n",
              "      <td>CL0</td>\n",
              "      <td>CL1</td>\n",
              "      <td>CL0</td>\n",
              "      <td>CL0</td>\n",
              "      <td>CL0</td>\n",
              "    </tr>\n",
              "    <tr>\n",
              "      <th>3</th>\n",
              "      <td>-0.95197</td>\n",
              "      <td>0.48246</td>\n",
              "      <td>1.16365</td>\n",
              "      <td>0.96082</td>\n",
              "      <td>-0.31685</td>\n",
              "      <td>-0.14882</td>\n",
              "      <td>-0.80615</td>\n",
              "      <td>-0.01928</td>\n",
              "      <td>0.59042</td>\n",
              "      <td>0.58489</td>\n",
              "      <td>-1.37983</td>\n",
              "      <td>-1.18084</td>\n",
              "      <td>CL4</td>\n",
              "      <td>CL0</td>\n",
              "      <td>CL0</td>\n",
              "      <td>CL3</td>\n",
              "      <td>CL5</td>\n",
              "      <td>CL2</td>\n",
              "      <td>CL4</td>\n",
              "      <td>CL2</td>\n",
              "      <td>CL0</td>\n",
              "      <td>CL0</td>\n",
              "      <td>CL0</td>\n",
              "      <td>CL2</td>\n",
              "      <td>CL0</td>\n",
              "      <td>CL0</td>\n",
              "      <td>CL0</td>\n",
              "      <td>CL0</td>\n",
              "      <td>CL2</td>\n",
              "      <td>CL0</td>\n",
              "      <td>CL0</td>\n",
              "    </tr>\n",
              "    <tr>\n",
              "      <th>4</th>\n",
              "      <td>0.49788</td>\n",
              "      <td>0.48246</td>\n",
              "      <td>1.98437</td>\n",
              "      <td>0.96082</td>\n",
              "      <td>-0.31685</td>\n",
              "      <td>0.73545</td>\n",
              "      <td>-1.63340</td>\n",
              "      <td>-0.45174</td>\n",
              "      <td>-0.30172</td>\n",
              "      <td>1.30612</td>\n",
              "      <td>-0.21712</td>\n",
              "      <td>-0.21575</td>\n",
              "      <td>CL4</td>\n",
              "      <td>CL1</td>\n",
              "      <td>CL1</td>\n",
              "      <td>CL0</td>\n",
              "      <td>CL6</td>\n",
              "      <td>CL3</td>\n",
              "      <td>CL6</td>\n",
              "      <td>CL0</td>\n",
              "      <td>CL0</td>\n",
              "      <td>CL1</td>\n",
              "      <td>CL0</td>\n",
              "      <td>CL0</td>\n",
              "      <td>CL1</td>\n",
              "      <td>CL0</td>\n",
              "      <td>CL0</td>\n",
              "      <td>CL2</td>\n",
              "      <td>CL2</td>\n",
              "      <td>CL0</td>\n",
              "      <td>CL0</td>\n",
              "    </tr>\n",
              "  </tbody>\n",
              "</table>\n",
              "</div>"
            ],
            "text/plain": [
              "       Age   Gender  ...  Semeron consumption  VSA consumption\n",
              "0  0.49788  0.48246  ...                  CL0              CL0\n",
              "1 -0.07854 -0.48246  ...                  CL0              CL0\n",
              "2  0.49788 -0.48246  ...                  CL0              CL0\n",
              "3 -0.95197  0.48246  ...                  CL0              CL0\n",
              "4  0.49788  0.48246  ...                  CL0              CL0\n",
              "\n",
              "[5 rows x 31 columns]"
            ]
          },
          "metadata": {
            "tags": []
          },
          "execution_count": 221
        }
      ]
    },
    {
      "cell_type": "code",
      "metadata": {
        "colab": {
          "base_uri": "https://localhost:8080/"
        },
        "id": "8JB7qdhlMqbq",
        "outputId": "e008dd8c-f398-41a8-9f95-4eef9c05f06d"
      },
      "source": [
        "nb_lignes, nb_col = data.shape\n",
        "print(\"Number of row : \"+str(nb_lignes))\n",
        "print(\"Number of columns \"+str(nb_col))\n"
      ],
      "execution_count": null,
      "outputs": [
        {
          "output_type": "stream",
          "text": [
            "Number of row : 1885\n",
            "Number of columns 31\n"
          ],
          "name": "stdout"
        }
      ]
    },
    {
      "cell_type": "code",
      "metadata": {
        "colab": {
          "base_uri": "https://localhost:8080/",
          "height": 308
        },
        "id": "eLQXNqaVNPso",
        "outputId": "ccb5ca4a-283a-47fe-b5cc-eb20f5ae3687"
      },
      "source": [
        "data.describe()\n"
      ],
      "execution_count": null,
      "outputs": [
        {
          "output_type": "execute_result",
          "data": {
            "text/html": [
              "<div>\n",
              "<style scoped>\n",
              "    .dataframe tbody tr th:only-of-type {\n",
              "        vertical-align: middle;\n",
              "    }\n",
              "\n",
              "    .dataframe tbody tr th {\n",
              "        vertical-align: top;\n",
              "    }\n",
              "\n",
              "    .dataframe thead th {\n",
              "        text-align: right;\n",
              "    }\n",
              "</style>\n",
              "<table border=\"1\" class=\"dataframe\">\n",
              "  <thead>\n",
              "    <tr style=\"text-align: right;\">\n",
              "      <th></th>\n",
              "      <th>Age</th>\n",
              "      <th>Gender</th>\n",
              "      <th>Education level</th>\n",
              "      <th>Country number</th>\n",
              "      <th>Ethnicity number</th>\n",
              "      <th>Neuroticism</th>\n",
              "      <th>Extraversion</th>\n",
              "      <th>Openess to exp</th>\n",
              "      <th>Agreeableness</th>\n",
              "      <th>Conscientiousness</th>\n",
              "      <th>Impulsiveness</th>\n",
              "      <th>Sensation seeing</th>\n",
              "    </tr>\n",
              "  </thead>\n",
              "  <tbody>\n",
              "    <tr>\n",
              "      <th>count</th>\n",
              "      <td>1885.00000</td>\n",
              "      <td>1885.000000</td>\n",
              "      <td>1885.000000</td>\n",
              "      <td>1885.000000</td>\n",
              "      <td>1885.000000</td>\n",
              "      <td>1885.000000</td>\n",
              "      <td>1885.000000</td>\n",
              "      <td>1885.000000</td>\n",
              "      <td>1885.000000</td>\n",
              "      <td>1885.000000</td>\n",
              "      <td>1885.000000</td>\n",
              "      <td>1885.000000</td>\n",
              "    </tr>\n",
              "    <tr>\n",
              "      <th>mean</th>\n",
              "      <td>0.03461</td>\n",
              "      <td>-0.000256</td>\n",
              "      <td>-0.003806</td>\n",
              "      <td>0.355542</td>\n",
              "      <td>-0.309577</td>\n",
              "      <td>0.000047</td>\n",
              "      <td>-0.000163</td>\n",
              "      <td>-0.000534</td>\n",
              "      <td>-0.000245</td>\n",
              "      <td>-0.000386</td>\n",
              "      <td>0.007216</td>\n",
              "      <td>-0.003292</td>\n",
              "    </tr>\n",
              "    <tr>\n",
              "      <th>std</th>\n",
              "      <td>0.87836</td>\n",
              "      <td>0.482588</td>\n",
              "      <td>0.950078</td>\n",
              "      <td>0.700335</td>\n",
              "      <td>0.166226</td>\n",
              "      <td>0.998106</td>\n",
              "      <td>0.997448</td>\n",
              "      <td>0.996229</td>\n",
              "      <td>0.997440</td>\n",
              "      <td>0.997523</td>\n",
              "      <td>0.954435</td>\n",
              "      <td>0.963701</td>\n",
              "    </tr>\n",
              "    <tr>\n",
              "      <th>min</th>\n",
              "      <td>-0.95197</td>\n",
              "      <td>-0.482460</td>\n",
              "      <td>-2.435910</td>\n",
              "      <td>-0.570090</td>\n",
              "      <td>-1.107020</td>\n",
              "      <td>-3.464360</td>\n",
              "      <td>-3.273930</td>\n",
              "      <td>-3.273930</td>\n",
              "      <td>-3.464360</td>\n",
              "      <td>-3.464360</td>\n",
              "      <td>-2.555240</td>\n",
              "      <td>-2.078480</td>\n",
              "    </tr>\n",
              "    <tr>\n",
              "      <th>25%</th>\n",
              "      <td>-0.95197</td>\n",
              "      <td>-0.482460</td>\n",
              "      <td>-0.611130</td>\n",
              "      <td>-0.570090</td>\n",
              "      <td>-0.316850</td>\n",
              "      <td>-0.678250</td>\n",
              "      <td>-0.695090</td>\n",
              "      <td>-0.717270</td>\n",
              "      <td>-0.606330</td>\n",
              "      <td>-0.652530</td>\n",
              "      <td>-0.711260</td>\n",
              "      <td>-0.525930</td>\n",
              "    </tr>\n",
              "    <tr>\n",
              "      <th>50%</th>\n",
              "      <td>-0.07854</td>\n",
              "      <td>-0.482460</td>\n",
              "      <td>-0.059210</td>\n",
              "      <td>0.960820</td>\n",
              "      <td>-0.316850</td>\n",
              "      <td>0.042570</td>\n",
              "      <td>0.003320</td>\n",
              "      <td>-0.019280</td>\n",
              "      <td>-0.017290</td>\n",
              "      <td>-0.006650</td>\n",
              "      <td>-0.217120</td>\n",
              "      <td>0.079870</td>\n",
              "    </tr>\n",
              "    <tr>\n",
              "      <th>75%</th>\n",
              "      <td>0.49788</td>\n",
              "      <td>0.482460</td>\n",
              "      <td>0.454680</td>\n",
              "      <td>0.960820</td>\n",
              "      <td>-0.316850</td>\n",
              "      <td>0.629670</td>\n",
              "      <td>0.637790</td>\n",
              "      <td>0.723300</td>\n",
              "      <td>0.760960</td>\n",
              "      <td>0.584890</td>\n",
              "      <td>0.529750</td>\n",
              "      <td>0.765400</td>\n",
              "    </tr>\n",
              "    <tr>\n",
              "      <th>max</th>\n",
              "      <td>2.59171</td>\n",
              "      <td>0.482460</td>\n",
              "      <td>1.984370</td>\n",
              "      <td>0.960820</td>\n",
              "      <td>1.907250</td>\n",
              "      <td>3.273930</td>\n",
              "      <td>3.273930</td>\n",
              "      <td>2.901610</td>\n",
              "      <td>3.464360</td>\n",
              "      <td>3.464360</td>\n",
              "      <td>2.901610</td>\n",
              "      <td>1.921730</td>\n",
              "    </tr>\n",
              "  </tbody>\n",
              "</table>\n",
              "</div>"
            ],
            "text/plain": [
              "              Age       Gender  ...  Impulsiveness  Sensation seeing\n",
              "count  1885.00000  1885.000000  ...    1885.000000       1885.000000\n",
              "mean      0.03461    -0.000256  ...       0.007216         -0.003292\n",
              "std       0.87836     0.482588  ...       0.954435          0.963701\n",
              "min      -0.95197    -0.482460  ...      -2.555240         -2.078480\n",
              "25%      -0.95197    -0.482460  ...      -0.711260         -0.525930\n",
              "50%      -0.07854    -0.482460  ...      -0.217120          0.079870\n",
              "75%       0.49788     0.482460  ...       0.529750          0.765400\n",
              "max       2.59171     0.482460  ...       2.901610          1.921730\n",
              "\n",
              "[8 rows x 12 columns]"
            ]
          },
          "metadata": {
            "tags": []
          },
          "execution_count": 223
        }
      ]
    },
    {
      "cell_type": "code",
      "metadata": {
        "colab": {
          "base_uri": "https://localhost:8080/"
        },
        "id": "-xsUCGYBNQEO",
        "outputId": "35fbecea-8985-4bb6-e21a-ca8eb919db28"
      },
      "source": [
        "data.dtypes\n"
      ],
      "execution_count": null,
      "outputs": [
        {
          "output_type": "execute_result",
          "data": {
            "text/plain": [
              "Age                        float64\n",
              "Gender                     float64\n",
              "Education level            float64\n",
              "Country number             float64\n",
              "Ethnicity number           float64\n",
              "Neuroticism                float64\n",
              "Extraversion               float64\n",
              "Openess to exp             float64\n",
              "Agreeableness              float64\n",
              "Conscientiousness          float64\n",
              "Impulsiveness              float64\n",
              "Sensation seeing           float64\n",
              "Alcohol consumption         object\n",
              "Amphet consumption          object\n",
              "Amyl consumption            object\n",
              "Benzos consumption          object\n",
              "Caffeine consumption        object\n",
              "Cannabis consumption        object\n",
              "Chocolate consumption       object\n",
              "Coke consumption            object\n",
              "Crack consumption           object\n",
              "Ecstasy consumption         object\n",
              "Heroin consumption          object\n",
              "Ketamine consumption        object\n",
              "Legal highs consumption     object\n",
              "LSD consumption             object\n",
              "Meth consumption            object\n",
              "Mushrooms consumption       object\n",
              "Nicotine consumption        object\n",
              "Semeron consumption         object\n",
              "VSA consumption             object\n",
              "dtype: object"
            ]
          },
          "metadata": {
            "tags": []
          },
          "execution_count": 224
        }
      ]
    },
    {
      "cell_type": "code",
      "metadata": {
        "colab": {
          "base_uri": "https://localhost:8080/"
        },
        "id": "T4AjEZpsNQUq",
        "outputId": "0f9eed90-0f80-48e6-81c9-a6af861e2eb2"
      },
      "source": [
        "data.isna().sum()"
      ],
      "execution_count": null,
      "outputs": [
        {
          "output_type": "execute_result",
          "data": {
            "text/plain": [
              "Age                        0\n",
              "Gender                     0\n",
              "Education level            0\n",
              "Country number             0\n",
              "Ethnicity number           0\n",
              "Neuroticism                0\n",
              "Extraversion               0\n",
              "Openess to exp             0\n",
              "Agreeableness              0\n",
              "Conscientiousness          0\n",
              "Impulsiveness              0\n",
              "Sensation seeing           0\n",
              "Alcohol consumption        0\n",
              "Amphet consumption         0\n",
              "Amyl consumption           0\n",
              "Benzos consumption         0\n",
              "Caffeine consumption       0\n",
              "Cannabis consumption       0\n",
              "Chocolate consumption      0\n",
              "Coke consumption           0\n",
              "Crack consumption          0\n",
              "Ecstasy consumption        0\n",
              "Heroin consumption         0\n",
              "Ketamine consumption       0\n",
              "Legal highs consumption    0\n",
              "LSD consumption            0\n",
              "Meth consumption           0\n",
              "Mushrooms consumption      0\n",
              "Nicotine consumption       0\n",
              "Semeron consumption        0\n",
              "VSA consumption            0\n",
              "dtype: int64"
            ]
          },
          "metadata": {
            "tags": []
          },
          "execution_count": 225
        }
      ]
    },
    {
      "cell_type": "markdown",
      "metadata": {
        "id": "gxROQxe8Zz47"
      },
      "source": [
        "There is no row with non available values."
      ]
    },
    {
      "cell_type": "markdown",
      "metadata": {
        "id": "WZTZqvXLts6M"
      },
      "source": [
        "## Improvments of rows values and the column Semeron"
      ]
    },
    {
      "cell_type": "markdown",
      "metadata": {
        "id": "za_t1h5I1rpv"
      },
      "source": [
        "To simplify the drug consumption columns, we take off all the \"CL\" strings to have just integers, corresponding to the level of consumption from 0 to 6."
      ]
    },
    {
      "cell_type": "code",
      "metadata": {
        "id": "n_K9EN3gaAiQ"
      },
      "source": [
        "for i in data.columns[12:32]:\n",
        "    data[i] = data[i].map({'CL0': 0, 'CL1': 1, 'CL2': 2, 'CL3': 3, 'CL4': 4, 'CL5': 5, 'CL6': 6})\n"
      ],
      "execution_count": null,
      "outputs": []
    },
    {
      "cell_type": "markdown",
      "metadata": {
        "id": "z7hkWxgXle4k"
      },
      "source": [
        "CLi represents the frequency that people consummes a drug, for i between 0 and 6. The bigger i is, the more frequent the consumption:\n",
        "\n",
        "CL0 Never Used\n",
        "CL1 Used over a Decade Ago\n",
        "CL2 Used in Last Decade\n",
        "CL3 Used in Last Year\n",
        "CL4 Used in Last Month \n",
        "CL5 Used in Last Week\n",
        "CL6 Used in Last Day"
      ]
    },
    {
      "cell_type": "code",
      "metadata": {
        "colab": {
          "base_uri": "https://localhost:8080/",
          "height": 237
        },
        "id": "TMKVBwo8a8Lv",
        "outputId": "6190b78a-8d9f-4611-c848-6cd8da242df8"
      },
      "source": [
        "data.head()"
      ],
      "execution_count": null,
      "outputs": [
        {
          "output_type": "execute_result",
          "data": {
            "text/html": [
              "<div>\n",
              "<style scoped>\n",
              "    .dataframe tbody tr th:only-of-type {\n",
              "        vertical-align: middle;\n",
              "    }\n",
              "\n",
              "    .dataframe tbody tr th {\n",
              "        vertical-align: top;\n",
              "    }\n",
              "\n",
              "    .dataframe thead th {\n",
              "        text-align: right;\n",
              "    }\n",
              "</style>\n",
              "<table border=\"1\" class=\"dataframe\">\n",
              "  <thead>\n",
              "    <tr style=\"text-align: right;\">\n",
              "      <th></th>\n",
              "      <th>Age</th>\n",
              "      <th>Gender</th>\n",
              "      <th>Education level</th>\n",
              "      <th>Country number</th>\n",
              "      <th>Ethnicity number</th>\n",
              "      <th>Neuroticism</th>\n",
              "      <th>Extraversion</th>\n",
              "      <th>Openess to exp</th>\n",
              "      <th>Agreeableness</th>\n",
              "      <th>Conscientiousness</th>\n",
              "      <th>Impulsiveness</th>\n",
              "      <th>Sensation seeing</th>\n",
              "      <th>Alcohol consumption</th>\n",
              "      <th>Amphet consumption</th>\n",
              "      <th>Amyl consumption</th>\n",
              "      <th>Benzos consumption</th>\n",
              "      <th>Caffeine consumption</th>\n",
              "      <th>Cannabis consumption</th>\n",
              "      <th>Chocolate consumption</th>\n",
              "      <th>Coke consumption</th>\n",
              "      <th>Crack consumption</th>\n",
              "      <th>Ecstasy consumption</th>\n",
              "      <th>Heroin consumption</th>\n",
              "      <th>Ketamine consumption</th>\n",
              "      <th>Legal highs consumption</th>\n",
              "      <th>LSD consumption</th>\n",
              "      <th>Meth consumption</th>\n",
              "      <th>Mushrooms consumption</th>\n",
              "      <th>Nicotine consumption</th>\n",
              "      <th>Semeron consumption</th>\n",
              "      <th>VSA consumption</th>\n",
              "    </tr>\n",
              "  </thead>\n",
              "  <tbody>\n",
              "    <tr>\n",
              "      <th>0</th>\n",
              "      <td>0.49788</td>\n",
              "      <td>0.48246</td>\n",
              "      <td>-0.05921</td>\n",
              "      <td>0.96082</td>\n",
              "      <td>0.12600</td>\n",
              "      <td>0.31287</td>\n",
              "      <td>-0.57545</td>\n",
              "      <td>-0.58331</td>\n",
              "      <td>-0.91699</td>\n",
              "      <td>-0.00665</td>\n",
              "      <td>-0.21712</td>\n",
              "      <td>-1.18084</td>\n",
              "      <td>5</td>\n",
              "      <td>2</td>\n",
              "      <td>0</td>\n",
              "      <td>2</td>\n",
              "      <td>6</td>\n",
              "      <td>0</td>\n",
              "      <td>5</td>\n",
              "      <td>0</td>\n",
              "      <td>0</td>\n",
              "      <td>0</td>\n",
              "      <td>0</td>\n",
              "      <td>0</td>\n",
              "      <td>0</td>\n",
              "      <td>0</td>\n",
              "      <td>0</td>\n",
              "      <td>0</td>\n",
              "      <td>2</td>\n",
              "      <td>0</td>\n",
              "      <td>0</td>\n",
              "    </tr>\n",
              "    <tr>\n",
              "      <th>1</th>\n",
              "      <td>-0.07854</td>\n",
              "      <td>-0.48246</td>\n",
              "      <td>1.98437</td>\n",
              "      <td>0.96082</td>\n",
              "      <td>-0.31685</td>\n",
              "      <td>-0.67825</td>\n",
              "      <td>1.93886</td>\n",
              "      <td>1.43533</td>\n",
              "      <td>0.76096</td>\n",
              "      <td>-0.14277</td>\n",
              "      <td>-0.71126</td>\n",
              "      <td>-0.21575</td>\n",
              "      <td>5</td>\n",
              "      <td>2</td>\n",
              "      <td>2</td>\n",
              "      <td>0</td>\n",
              "      <td>6</td>\n",
              "      <td>4</td>\n",
              "      <td>6</td>\n",
              "      <td>3</td>\n",
              "      <td>0</td>\n",
              "      <td>4</td>\n",
              "      <td>0</td>\n",
              "      <td>2</td>\n",
              "      <td>0</td>\n",
              "      <td>2</td>\n",
              "      <td>3</td>\n",
              "      <td>0</td>\n",
              "      <td>4</td>\n",
              "      <td>0</td>\n",
              "      <td>0</td>\n",
              "    </tr>\n",
              "    <tr>\n",
              "      <th>2</th>\n",
              "      <td>0.49788</td>\n",
              "      <td>-0.48246</td>\n",
              "      <td>-0.05921</td>\n",
              "      <td>0.96082</td>\n",
              "      <td>-0.31685</td>\n",
              "      <td>-0.46725</td>\n",
              "      <td>0.80523</td>\n",
              "      <td>-0.84732</td>\n",
              "      <td>-1.62090</td>\n",
              "      <td>-1.01450</td>\n",
              "      <td>-1.37983</td>\n",
              "      <td>0.40148</td>\n",
              "      <td>6</td>\n",
              "      <td>0</td>\n",
              "      <td>0</td>\n",
              "      <td>0</td>\n",
              "      <td>6</td>\n",
              "      <td>3</td>\n",
              "      <td>4</td>\n",
              "      <td>0</td>\n",
              "      <td>0</td>\n",
              "      <td>0</td>\n",
              "      <td>0</td>\n",
              "      <td>0</td>\n",
              "      <td>0</td>\n",
              "      <td>0</td>\n",
              "      <td>0</td>\n",
              "      <td>1</td>\n",
              "      <td>0</td>\n",
              "      <td>0</td>\n",
              "      <td>0</td>\n",
              "    </tr>\n",
              "    <tr>\n",
              "      <th>3</th>\n",
              "      <td>-0.95197</td>\n",
              "      <td>0.48246</td>\n",
              "      <td>1.16365</td>\n",
              "      <td>0.96082</td>\n",
              "      <td>-0.31685</td>\n",
              "      <td>-0.14882</td>\n",
              "      <td>-0.80615</td>\n",
              "      <td>-0.01928</td>\n",
              "      <td>0.59042</td>\n",
              "      <td>0.58489</td>\n",
              "      <td>-1.37983</td>\n",
              "      <td>-1.18084</td>\n",
              "      <td>4</td>\n",
              "      <td>0</td>\n",
              "      <td>0</td>\n",
              "      <td>3</td>\n",
              "      <td>5</td>\n",
              "      <td>2</td>\n",
              "      <td>4</td>\n",
              "      <td>2</td>\n",
              "      <td>0</td>\n",
              "      <td>0</td>\n",
              "      <td>0</td>\n",
              "      <td>2</td>\n",
              "      <td>0</td>\n",
              "      <td>0</td>\n",
              "      <td>0</td>\n",
              "      <td>0</td>\n",
              "      <td>2</td>\n",
              "      <td>0</td>\n",
              "      <td>0</td>\n",
              "    </tr>\n",
              "    <tr>\n",
              "      <th>4</th>\n",
              "      <td>0.49788</td>\n",
              "      <td>0.48246</td>\n",
              "      <td>1.98437</td>\n",
              "      <td>0.96082</td>\n",
              "      <td>-0.31685</td>\n",
              "      <td>0.73545</td>\n",
              "      <td>-1.63340</td>\n",
              "      <td>-0.45174</td>\n",
              "      <td>-0.30172</td>\n",
              "      <td>1.30612</td>\n",
              "      <td>-0.21712</td>\n",
              "      <td>-0.21575</td>\n",
              "      <td>4</td>\n",
              "      <td>1</td>\n",
              "      <td>1</td>\n",
              "      <td>0</td>\n",
              "      <td>6</td>\n",
              "      <td>3</td>\n",
              "      <td>6</td>\n",
              "      <td>0</td>\n",
              "      <td>0</td>\n",
              "      <td>1</td>\n",
              "      <td>0</td>\n",
              "      <td>0</td>\n",
              "      <td>1</td>\n",
              "      <td>0</td>\n",
              "      <td>0</td>\n",
              "      <td>2</td>\n",
              "      <td>2</td>\n",
              "      <td>0</td>\n",
              "      <td>0</td>\n",
              "    </tr>\n",
              "  </tbody>\n",
              "</table>\n",
              "</div>"
            ],
            "text/plain": [
              "       Age   Gender  ...  Semeron consumption  VSA consumption\n",
              "0  0.49788  0.48246  ...                    0                0\n",
              "1 -0.07854 -0.48246  ...                    0                0\n",
              "2  0.49788 -0.48246  ...                    0                0\n",
              "3 -0.95197  0.48246  ...                    0                0\n",
              "4  0.49788  0.48246  ...                    0                0\n",
              "\n",
              "[5 rows x 31 columns]"
            ]
          },
          "metadata": {
            "tags": []
          },
          "execution_count": 227
        }
      ]
    },
    {
      "cell_type": "markdown",
      "metadata": {
        "id": "_NFH9MJHhcg9"
      },
      "source": [
        "Semeron is a fictive drug created to identify over-claimers thus we take off the persons that recorded a consumption for this drug and then we delete the  Semeron column."
      ]
    },
    {
      "cell_type": "code",
      "metadata": {
        "id": "aBImR3HWbdkC"
      },
      "source": [
        "data = data[data[\"Semeron consumption\"] == 0]"
      ],
      "execution_count": null,
      "outputs": []
    },
    {
      "cell_type": "code",
      "metadata": {
        "colab": {
          "base_uri": "https://localhost:8080/"
        },
        "id": "BOyt_iNyi3Sn",
        "outputId": "4e022b34-1a20-4c14-961d-878008e4e24a"
      },
      "source": [
        "nb_lignes, nb_col = data.shape\r\n",
        "print(\"Number of row : \"+str(nb_lignes))\r\n",
        "print(\"Number of columns \"+str(nb_col))"
      ],
      "execution_count": null,
      "outputs": [
        {
          "output_type": "stream",
          "text": [
            "Number of row : 1877\n",
            "Number of columns 31\n"
          ],
          "name": "stdout"
        }
      ]
    },
    {
      "cell_type": "markdown",
      "metadata": {
        "id": "t29LGZ5ijU5g"
      },
      "source": [
        "We deleted 8 rows "
      ]
    },
    {
      "cell_type": "code",
      "metadata": {
        "colab": {
          "base_uri": "https://localhost:8080/",
          "height": 237
        },
        "id": "U4ZqJCU4jc7A",
        "outputId": "72e42306-6b5b-4c17-b79a-47001ed24301"
      },
      "source": [
        "data = data.drop(columns=\"Semeron consumption\")\r\n",
        "data.head()"
      ],
      "execution_count": null,
      "outputs": [
        {
          "output_type": "execute_result",
          "data": {
            "text/html": [
              "<div>\n",
              "<style scoped>\n",
              "    .dataframe tbody tr th:only-of-type {\n",
              "        vertical-align: middle;\n",
              "    }\n",
              "\n",
              "    .dataframe tbody tr th {\n",
              "        vertical-align: top;\n",
              "    }\n",
              "\n",
              "    .dataframe thead th {\n",
              "        text-align: right;\n",
              "    }\n",
              "</style>\n",
              "<table border=\"1\" class=\"dataframe\">\n",
              "  <thead>\n",
              "    <tr style=\"text-align: right;\">\n",
              "      <th></th>\n",
              "      <th>Age</th>\n",
              "      <th>Gender</th>\n",
              "      <th>Education level</th>\n",
              "      <th>Country number</th>\n",
              "      <th>Ethnicity number</th>\n",
              "      <th>Neuroticism</th>\n",
              "      <th>Extraversion</th>\n",
              "      <th>Openess to exp</th>\n",
              "      <th>Agreeableness</th>\n",
              "      <th>Conscientiousness</th>\n",
              "      <th>Impulsiveness</th>\n",
              "      <th>Sensation seeing</th>\n",
              "      <th>Alcohol consumption</th>\n",
              "      <th>Amphet consumption</th>\n",
              "      <th>Amyl consumption</th>\n",
              "      <th>Benzos consumption</th>\n",
              "      <th>Caffeine consumption</th>\n",
              "      <th>Cannabis consumption</th>\n",
              "      <th>Chocolate consumption</th>\n",
              "      <th>Coke consumption</th>\n",
              "      <th>Crack consumption</th>\n",
              "      <th>Ecstasy consumption</th>\n",
              "      <th>Heroin consumption</th>\n",
              "      <th>Ketamine consumption</th>\n",
              "      <th>Legal highs consumption</th>\n",
              "      <th>LSD consumption</th>\n",
              "      <th>Meth consumption</th>\n",
              "      <th>Mushrooms consumption</th>\n",
              "      <th>Nicotine consumption</th>\n",
              "      <th>VSA consumption</th>\n",
              "    </tr>\n",
              "  </thead>\n",
              "  <tbody>\n",
              "    <tr>\n",
              "      <th>0</th>\n",
              "      <td>0.49788</td>\n",
              "      <td>0.48246</td>\n",
              "      <td>-0.05921</td>\n",
              "      <td>0.96082</td>\n",
              "      <td>0.12600</td>\n",
              "      <td>0.31287</td>\n",
              "      <td>-0.57545</td>\n",
              "      <td>-0.58331</td>\n",
              "      <td>-0.91699</td>\n",
              "      <td>-0.00665</td>\n",
              "      <td>-0.21712</td>\n",
              "      <td>-1.18084</td>\n",
              "      <td>5</td>\n",
              "      <td>2</td>\n",
              "      <td>0</td>\n",
              "      <td>2</td>\n",
              "      <td>6</td>\n",
              "      <td>0</td>\n",
              "      <td>5</td>\n",
              "      <td>0</td>\n",
              "      <td>0</td>\n",
              "      <td>0</td>\n",
              "      <td>0</td>\n",
              "      <td>0</td>\n",
              "      <td>0</td>\n",
              "      <td>0</td>\n",
              "      <td>0</td>\n",
              "      <td>0</td>\n",
              "      <td>2</td>\n",
              "      <td>0</td>\n",
              "    </tr>\n",
              "    <tr>\n",
              "      <th>1</th>\n",
              "      <td>-0.07854</td>\n",
              "      <td>-0.48246</td>\n",
              "      <td>1.98437</td>\n",
              "      <td>0.96082</td>\n",
              "      <td>-0.31685</td>\n",
              "      <td>-0.67825</td>\n",
              "      <td>1.93886</td>\n",
              "      <td>1.43533</td>\n",
              "      <td>0.76096</td>\n",
              "      <td>-0.14277</td>\n",
              "      <td>-0.71126</td>\n",
              "      <td>-0.21575</td>\n",
              "      <td>5</td>\n",
              "      <td>2</td>\n",
              "      <td>2</td>\n",
              "      <td>0</td>\n",
              "      <td>6</td>\n",
              "      <td>4</td>\n",
              "      <td>6</td>\n",
              "      <td>3</td>\n",
              "      <td>0</td>\n",
              "      <td>4</td>\n",
              "      <td>0</td>\n",
              "      <td>2</td>\n",
              "      <td>0</td>\n",
              "      <td>2</td>\n",
              "      <td>3</td>\n",
              "      <td>0</td>\n",
              "      <td>4</td>\n",
              "      <td>0</td>\n",
              "    </tr>\n",
              "    <tr>\n",
              "      <th>2</th>\n",
              "      <td>0.49788</td>\n",
              "      <td>-0.48246</td>\n",
              "      <td>-0.05921</td>\n",
              "      <td>0.96082</td>\n",
              "      <td>-0.31685</td>\n",
              "      <td>-0.46725</td>\n",
              "      <td>0.80523</td>\n",
              "      <td>-0.84732</td>\n",
              "      <td>-1.62090</td>\n",
              "      <td>-1.01450</td>\n",
              "      <td>-1.37983</td>\n",
              "      <td>0.40148</td>\n",
              "      <td>6</td>\n",
              "      <td>0</td>\n",
              "      <td>0</td>\n",
              "      <td>0</td>\n",
              "      <td>6</td>\n",
              "      <td>3</td>\n",
              "      <td>4</td>\n",
              "      <td>0</td>\n",
              "      <td>0</td>\n",
              "      <td>0</td>\n",
              "      <td>0</td>\n",
              "      <td>0</td>\n",
              "      <td>0</td>\n",
              "      <td>0</td>\n",
              "      <td>0</td>\n",
              "      <td>1</td>\n",
              "      <td>0</td>\n",
              "      <td>0</td>\n",
              "    </tr>\n",
              "    <tr>\n",
              "      <th>3</th>\n",
              "      <td>-0.95197</td>\n",
              "      <td>0.48246</td>\n",
              "      <td>1.16365</td>\n",
              "      <td>0.96082</td>\n",
              "      <td>-0.31685</td>\n",
              "      <td>-0.14882</td>\n",
              "      <td>-0.80615</td>\n",
              "      <td>-0.01928</td>\n",
              "      <td>0.59042</td>\n",
              "      <td>0.58489</td>\n",
              "      <td>-1.37983</td>\n",
              "      <td>-1.18084</td>\n",
              "      <td>4</td>\n",
              "      <td>0</td>\n",
              "      <td>0</td>\n",
              "      <td>3</td>\n",
              "      <td>5</td>\n",
              "      <td>2</td>\n",
              "      <td>4</td>\n",
              "      <td>2</td>\n",
              "      <td>0</td>\n",
              "      <td>0</td>\n",
              "      <td>0</td>\n",
              "      <td>2</td>\n",
              "      <td>0</td>\n",
              "      <td>0</td>\n",
              "      <td>0</td>\n",
              "      <td>0</td>\n",
              "      <td>2</td>\n",
              "      <td>0</td>\n",
              "    </tr>\n",
              "    <tr>\n",
              "      <th>4</th>\n",
              "      <td>0.49788</td>\n",
              "      <td>0.48246</td>\n",
              "      <td>1.98437</td>\n",
              "      <td>0.96082</td>\n",
              "      <td>-0.31685</td>\n",
              "      <td>0.73545</td>\n",
              "      <td>-1.63340</td>\n",
              "      <td>-0.45174</td>\n",
              "      <td>-0.30172</td>\n",
              "      <td>1.30612</td>\n",
              "      <td>-0.21712</td>\n",
              "      <td>-0.21575</td>\n",
              "      <td>4</td>\n",
              "      <td>1</td>\n",
              "      <td>1</td>\n",
              "      <td>0</td>\n",
              "      <td>6</td>\n",
              "      <td>3</td>\n",
              "      <td>6</td>\n",
              "      <td>0</td>\n",
              "      <td>0</td>\n",
              "      <td>1</td>\n",
              "      <td>0</td>\n",
              "      <td>0</td>\n",
              "      <td>1</td>\n",
              "      <td>0</td>\n",
              "      <td>0</td>\n",
              "      <td>2</td>\n",
              "      <td>2</td>\n",
              "      <td>0</td>\n",
              "    </tr>\n",
              "  </tbody>\n",
              "</table>\n",
              "</div>"
            ],
            "text/plain": [
              "       Age   Gender  ...  Nicotine consumption  VSA consumption\n",
              "0  0.49788  0.48246  ...                     2                0\n",
              "1 -0.07854 -0.48246  ...                     4                0\n",
              "2  0.49788 -0.48246  ...                     0                0\n",
              "3 -0.95197  0.48246  ...                     2                0\n",
              "4  0.49788  0.48246  ...                     2                0\n",
              "\n",
              "[5 rows x 30 columns]"
            ]
          },
          "metadata": {
            "tags": []
          },
          "execution_count": 230
        }
      ]
    },
    {
      "cell_type": "markdown",
      "metadata": {
        "id": "3PsJldPAt-Yk"
      },
      "source": [
        "## Creation of a new dataset, with string rows"
      ]
    },
    {
      "cell_type": "markdown",
      "metadata": {
        "id": "h8P8ZAEa2LJ4"
      },
      "source": [
        "We noticed that have only quantified values for each columns except the drug consumption one. We create a second dataset, data2 that shows directly the string linked to these quantified numbers"
      ]
    },
    {
      "cell_type": "code",
      "metadata": {
        "id": "5VQNvDR_oVGc"
      },
      "source": [
        "data2=data.copy()"
      ],
      "execution_count": null,
      "outputs": []
    },
    {
      "cell_type": "code",
      "metadata": {
        "id": "nznGWI7p9gI4"
      },
      "source": [
        "for i in data2.columns[1:6]:\n",
        "      data2[i] = data2[i].map(lambda x: round(x*10**5)/10**5 )"
      ],
      "execution_count": null,
      "outputs": []
    },
    {
      "cell_type": "code",
      "metadata": {
        "id": "6W64WFKAoRHS"
      },
      "source": [
        "data2['Gender']=data2['Gender'].map(lambda x: \"F\" if x==0.48246 else \"H\")\n",
        "data2['Age']=data2['Age'].map(lambda x:\n",
        "                              '18-24' if x==-0.95197 else\n",
        "                              '25-34' if x==-0.07854 else\n",
        "                              '35-44' if x==0.49788 else\n",
        "                              '45-54' if x==1.09449 else\n",
        "                              '55-64' if x==1.82213 else\n",
        "                              '65+')\n",
        "data2['Education level']=data2['Education level'].map(lambda x: 'Left school before 16 years' if x==-2.43591 else\n",
        "                                          ' Left school at 16 years' if x==-1.73790 else\n",
        "                                          'Left school at 17 years' if x==-1.43719  else\n",
        "                                          'Left school at 18 years' if x==-1.22751  else\n",
        "                                          'Some college or university, no certificate or degree' if x==-0.61113 else\n",
        "                                          'Professional certificate/ diploma' if x==-0.05921 else\n",
        "                                          'University degree' if x==0.45468 else\n",
        "                                          'Masters degree' if x==1.16365 else\n",
        "                                          ' Doctorate degree')\n",
        "\n",
        "\n",
        "\n",
        "\n",
        "data2['Country number']=data2['Country number'].map(lambda x: 'Australia' if x==-0.09765 else\n",
        "                                      'Canada' if x==0.24923 else\n",
        "                                      'New Zealand' if x==-0.46841 else\n",
        "                                      'Other' if x==-0.28519 else\n",
        "                                      'Republic of Ireland' if x==0.21128 else\n",
        "                                      'UK' if x==0.96082 else\n",
        "                                      'USA')\n",
        "\n",
        "data2['Ethnicity number']=data2['Ethnicity number'].map(lambda x: 'Asian' if x==-0.50212 else\n",
        "                                          'Black' if x==-1.10702 else\n",
        "                                          'Mixed-Black/Asian' if x==1.90725 else\n",
        "                                          'Mixed-White/Asian' if x==0.12600 else\n",
        "                                          'Mixed-White/Black' if x==-0.22166 else\n",
        "                                          'Other' if x==0.11440 else\n",
        "                                          'White')\n"
      ],
      "execution_count": null,
      "outputs": []
    },
    {
      "cell_type": "code",
      "metadata": {
        "colab": {
          "base_uri": "https://localhost:8080/",
          "height": 352
        },
        "id": "QzZiVjtpo1J-",
        "outputId": "18afd499-082e-4cba-e9ff-7f1dbea36d98"
      },
      "source": [
        "data2.head()"
      ],
      "execution_count": null,
      "outputs": [
        {
          "output_type": "execute_result",
          "data": {
            "text/html": [
              "<div>\n",
              "<style scoped>\n",
              "    .dataframe tbody tr th:only-of-type {\n",
              "        vertical-align: middle;\n",
              "    }\n",
              "\n",
              "    .dataframe tbody tr th {\n",
              "        vertical-align: top;\n",
              "    }\n",
              "\n",
              "    .dataframe thead th {\n",
              "        text-align: right;\n",
              "    }\n",
              "</style>\n",
              "<table border=\"1\" class=\"dataframe\">\n",
              "  <thead>\n",
              "    <tr style=\"text-align: right;\">\n",
              "      <th></th>\n",
              "      <th>Age</th>\n",
              "      <th>Gender</th>\n",
              "      <th>Education level</th>\n",
              "      <th>Country number</th>\n",
              "      <th>Ethnicity number</th>\n",
              "      <th>Neuroticism</th>\n",
              "      <th>Extraversion</th>\n",
              "      <th>Openess to exp</th>\n",
              "      <th>Agreeableness</th>\n",
              "      <th>Conscientiousness</th>\n",
              "      <th>Impulsiveness</th>\n",
              "      <th>Sensation seeing</th>\n",
              "      <th>Alcohol consumption</th>\n",
              "      <th>Amphet consumption</th>\n",
              "      <th>Amyl consumption</th>\n",
              "      <th>Benzos consumption</th>\n",
              "      <th>Caffeine consumption</th>\n",
              "      <th>Cannabis consumption</th>\n",
              "      <th>Chocolate consumption</th>\n",
              "      <th>Coke consumption</th>\n",
              "      <th>Crack consumption</th>\n",
              "      <th>Ecstasy consumption</th>\n",
              "      <th>Heroin consumption</th>\n",
              "      <th>Ketamine consumption</th>\n",
              "      <th>Legal highs consumption</th>\n",
              "      <th>LSD consumption</th>\n",
              "      <th>Meth consumption</th>\n",
              "      <th>Mushrooms consumption</th>\n",
              "      <th>Nicotine consumption</th>\n",
              "      <th>VSA consumption</th>\n",
              "    </tr>\n",
              "  </thead>\n",
              "  <tbody>\n",
              "    <tr>\n",
              "      <th>0</th>\n",
              "      <td>65+</td>\n",
              "      <td>F</td>\n",
              "      <td>Professional certificate/ diploma</td>\n",
              "      <td>UK</td>\n",
              "      <td>Mixed-White/Asian</td>\n",
              "      <td>0.31287</td>\n",
              "      <td>-0.57545</td>\n",
              "      <td>-0.58331</td>\n",
              "      <td>-0.91699</td>\n",
              "      <td>-0.00665</td>\n",
              "      <td>-0.21712</td>\n",
              "      <td>-1.18084</td>\n",
              "      <td>5</td>\n",
              "      <td>2</td>\n",
              "      <td>0</td>\n",
              "      <td>2</td>\n",
              "      <td>6</td>\n",
              "      <td>0</td>\n",
              "      <td>5</td>\n",
              "      <td>0</td>\n",
              "      <td>0</td>\n",
              "      <td>0</td>\n",
              "      <td>0</td>\n",
              "      <td>0</td>\n",
              "      <td>0</td>\n",
              "      <td>0</td>\n",
              "      <td>0</td>\n",
              "      <td>0</td>\n",
              "      <td>2</td>\n",
              "      <td>0</td>\n",
              "    </tr>\n",
              "    <tr>\n",
              "      <th>1</th>\n",
              "      <td>25-34</td>\n",
              "      <td>H</td>\n",
              "      <td>Doctorate degree</td>\n",
              "      <td>UK</td>\n",
              "      <td>White</td>\n",
              "      <td>-0.67825</td>\n",
              "      <td>1.93886</td>\n",
              "      <td>1.43533</td>\n",
              "      <td>0.76096</td>\n",
              "      <td>-0.14277</td>\n",
              "      <td>-0.71126</td>\n",
              "      <td>-0.21575</td>\n",
              "      <td>5</td>\n",
              "      <td>2</td>\n",
              "      <td>2</td>\n",
              "      <td>0</td>\n",
              "      <td>6</td>\n",
              "      <td>4</td>\n",
              "      <td>6</td>\n",
              "      <td>3</td>\n",
              "      <td>0</td>\n",
              "      <td>4</td>\n",
              "      <td>0</td>\n",
              "      <td>2</td>\n",
              "      <td>0</td>\n",
              "      <td>2</td>\n",
              "      <td>3</td>\n",
              "      <td>0</td>\n",
              "      <td>4</td>\n",
              "      <td>0</td>\n",
              "    </tr>\n",
              "    <tr>\n",
              "      <th>2</th>\n",
              "      <td>65+</td>\n",
              "      <td>H</td>\n",
              "      <td>Professional certificate/ diploma</td>\n",
              "      <td>UK</td>\n",
              "      <td>White</td>\n",
              "      <td>-0.46725</td>\n",
              "      <td>0.80523</td>\n",
              "      <td>-0.84732</td>\n",
              "      <td>-1.62090</td>\n",
              "      <td>-1.01450</td>\n",
              "      <td>-1.37983</td>\n",
              "      <td>0.40148</td>\n",
              "      <td>6</td>\n",
              "      <td>0</td>\n",
              "      <td>0</td>\n",
              "      <td>0</td>\n",
              "      <td>6</td>\n",
              "      <td>3</td>\n",
              "      <td>4</td>\n",
              "      <td>0</td>\n",
              "      <td>0</td>\n",
              "      <td>0</td>\n",
              "      <td>0</td>\n",
              "      <td>0</td>\n",
              "      <td>0</td>\n",
              "      <td>0</td>\n",
              "      <td>0</td>\n",
              "      <td>1</td>\n",
              "      <td>0</td>\n",
              "      <td>0</td>\n",
              "    </tr>\n",
              "    <tr>\n",
              "      <th>3</th>\n",
              "      <td>65+</td>\n",
              "      <td>F</td>\n",
              "      <td>Masters degree</td>\n",
              "      <td>UK</td>\n",
              "      <td>White</td>\n",
              "      <td>-0.14882</td>\n",
              "      <td>-0.80615</td>\n",
              "      <td>-0.01928</td>\n",
              "      <td>0.59042</td>\n",
              "      <td>0.58489</td>\n",
              "      <td>-1.37983</td>\n",
              "      <td>-1.18084</td>\n",
              "      <td>4</td>\n",
              "      <td>0</td>\n",
              "      <td>0</td>\n",
              "      <td>3</td>\n",
              "      <td>5</td>\n",
              "      <td>2</td>\n",
              "      <td>4</td>\n",
              "      <td>2</td>\n",
              "      <td>0</td>\n",
              "      <td>0</td>\n",
              "      <td>0</td>\n",
              "      <td>2</td>\n",
              "      <td>0</td>\n",
              "      <td>0</td>\n",
              "      <td>0</td>\n",
              "      <td>0</td>\n",
              "      <td>2</td>\n",
              "      <td>0</td>\n",
              "    </tr>\n",
              "    <tr>\n",
              "      <th>4</th>\n",
              "      <td>65+</td>\n",
              "      <td>F</td>\n",
              "      <td>Doctorate degree</td>\n",
              "      <td>UK</td>\n",
              "      <td>White</td>\n",
              "      <td>0.73545</td>\n",
              "      <td>-1.63340</td>\n",
              "      <td>-0.45174</td>\n",
              "      <td>-0.30172</td>\n",
              "      <td>1.30612</td>\n",
              "      <td>-0.21712</td>\n",
              "      <td>-0.21575</td>\n",
              "      <td>4</td>\n",
              "      <td>1</td>\n",
              "      <td>1</td>\n",
              "      <td>0</td>\n",
              "      <td>6</td>\n",
              "      <td>3</td>\n",
              "      <td>6</td>\n",
              "      <td>0</td>\n",
              "      <td>0</td>\n",
              "      <td>1</td>\n",
              "      <td>0</td>\n",
              "      <td>0</td>\n",
              "      <td>1</td>\n",
              "      <td>0</td>\n",
              "      <td>0</td>\n",
              "      <td>2</td>\n",
              "      <td>2</td>\n",
              "      <td>0</td>\n",
              "    </tr>\n",
              "  </tbody>\n",
              "</table>\n",
              "</div>"
            ],
            "text/plain": [
              "     Age Gender  ... Nicotine consumption VSA consumption\n",
              "0    65+      F  ...                    2               0\n",
              "1  25-34      H  ...                    4               0\n",
              "2    65+      H  ...                    0               0\n",
              "3    65+      F  ...                    2               0\n",
              "4    65+      F  ...                    2               0\n",
              "\n",
              "[5 rows x 30 columns]"
            ]
          },
          "metadata": {
            "tags": []
          },
          "execution_count": 234
        }
      ]
    },
    {
      "cell_type": "markdown",
      "metadata": {
        "id": "a8DwCjgbuRvR"
      },
      "source": [
        "# Analysis and Virtualizations"
      ]
    },
    {
      "cell_type": "markdown",
      "metadata": {
        "id": "Svt2jp47upLm"
      },
      "source": [
        "##What we already know"
      ]
    },
    {
      "cell_type": "markdown",
      "metadata": {
        "id": "HOc5BbnnhzDm"
      },
      "source": [
        "As the percentages for each column are already provided by the database site, there is no need to use graphs to visualize the profile of the people participating in this study.\n",
        "\n",
        "They are mostly white people (both women and men) from the USA or UK, who are between 18 and 54 years old, most of them entered the university.\n",
        "\n",
        "Let's look now at their drug consumption"
      ]
    },
    {
      "cell_type": "markdown",
      "metadata": {
        "id": "ohuvTHVhzyyz"
      },
      "source": [
        "## First graph, the type of drug used according to gender.\n"
      ]
    },
    {
      "cell_type": "code",
      "metadata": {
        "colab": {
          "base_uri": "https://localhost:8080/",
          "height": 596
        },
        "id": "dJuVOciovIuD",
        "outputId": "69f5bb66-fb1e-46d4-9e95-1899e3d8ffb2"
      },
      "source": [
        "drug_names=[\"Alcohol consumption\",\n",
        "              \"Amphet consumption\",\n",
        "              \"Amyl consumption\",\n",
        "              \"Benzos consumption\",\n",
        "              \"Caffeine consumption\",\n",
        "              \"Cannabis consumption\",\n",
        "              \"Chocolate consumption\",\n",
        "              \"Coke consumption\",\n",
        "              \"Crack consumption\",\n",
        "              \"Ecstasy consumption\",\n",
        "              \"Heroin consumption\",\n",
        "              \"Ketamine consumption\",\n",
        "              \"Legal highs consumption\",\n",
        "              \"LSD consumption\",\n",
        "              \"Meth consumption\",\n",
        "              \"Mushrooms consumption\",\n",
        "              \"Nicotine consumption\",\n",
        "              \"VSA consumption\"]\n",
        "Summary = pd.pivot_table(data2, index=['Gender'])\n",
        "s=Summary[drug_names].transpose()\n",
        "s"
      ],
      "execution_count": null,
      "outputs": [
        {
          "output_type": "execute_result",
          "data": {
            "text/html": [
              "<div>\n",
              "<style scoped>\n",
              "    .dataframe tbody tr th:only-of-type {\n",
              "        vertical-align: middle;\n",
              "    }\n",
              "\n",
              "    .dataframe tbody tr th {\n",
              "        vertical-align: top;\n",
              "    }\n",
              "\n",
              "    .dataframe thead th {\n",
              "        text-align: right;\n",
              "    }\n",
              "</style>\n",
              "<table border=\"1\" class=\"dataframe\">\n",
              "  <thead>\n",
              "    <tr style=\"text-align: right;\">\n",
              "      <th>Gender</th>\n",
              "      <th>F</th>\n",
              "      <th>H</th>\n",
              "    </tr>\n",
              "  </thead>\n",
              "  <tbody>\n",
              "    <tr>\n",
              "      <th>Alcohol consumption</th>\n",
              "      <td>4.629669</td>\n",
              "      <td>4.645745</td>\n",
              "    </tr>\n",
              "    <tr>\n",
              "      <th>Amphet consumption</th>\n",
              "      <td>0.937033</td>\n",
              "      <td>1.737234</td>\n",
              "    </tr>\n",
              "    <tr>\n",
              "      <th>Amyl consumption</th>\n",
              "      <td>0.434365</td>\n",
              "      <td>0.778723</td>\n",
              "    </tr>\n",
              "    <tr>\n",
              "      <th>Benzos consumption</th>\n",
              "      <td>1.208111</td>\n",
              "      <td>1.714894</td>\n",
              "    </tr>\n",
              "    <tr>\n",
              "      <th>Caffeine consumption</th>\n",
              "      <td>5.470651</td>\n",
              "      <td>5.497872</td>\n",
              "    </tr>\n",
              "    <tr>\n",
              "      <th>Cannabis consumption</th>\n",
              "      <td>2.282818</td>\n",
              "      <td>3.675532</td>\n",
              "    </tr>\n",
              "    <tr>\n",
              "      <th>Chocolate consumption</th>\n",
              "      <td>5.191035</td>\n",
              "      <td>5.028723</td>\n",
              "    </tr>\n",
              "    <tr>\n",
              "      <th>Coke consumption</th>\n",
              "      <td>0.882604</td>\n",
              "      <td>1.429787</td>\n",
              "    </tr>\n",
              "    <tr>\n",
              "      <th>Crack consumption</th>\n",
              "      <td>0.167556</td>\n",
              "      <td>0.423404</td>\n",
              "    </tr>\n",
              "    <tr>\n",
              "      <th>Ecstasy consumption</th>\n",
              "      <td>0.929562</td>\n",
              "      <td>1.688298</td>\n",
              "    </tr>\n",
              "    <tr>\n",
              "      <th>Heroin consumption</th>\n",
              "      <td>0.229456</td>\n",
              "      <td>0.514894</td>\n",
              "    </tr>\n",
              "    <tr>\n",
              "      <th>Ketamine consumption</th>\n",
              "      <td>0.329776</td>\n",
              "      <td>0.797872</td>\n",
              "    </tr>\n",
              "    <tr>\n",
              "      <th>Legal highs consumption</th>\n",
              "      <td>0.783351</td>\n",
              "      <td>1.921277</td>\n",
              "    </tr>\n",
              "    <tr>\n",
              "      <th>LSD consumption</th>\n",
              "      <td>0.636073</td>\n",
              "      <td>1.469149</td>\n",
              "    </tr>\n",
              "    <tr>\n",
              "      <th>Meth consumption</th>\n",
              "      <td>0.528282</td>\n",
              "      <td>1.123404</td>\n",
              "    </tr>\n",
              "    <tr>\n",
              "      <th>Mushrooms consumption</th>\n",
              "      <td>0.775880</td>\n",
              "      <td>1.578723</td>\n",
              "    </tr>\n",
              "    <tr>\n",
              "      <th>Nicotine consumption</th>\n",
              "      <td>2.722519</td>\n",
              "      <td>3.665957</td>\n",
              "    </tr>\n",
              "    <tr>\n",
              "      <th>VSA consumption</th>\n",
              "      <td>0.297759</td>\n",
              "      <td>0.560638</td>\n",
              "    </tr>\n",
              "  </tbody>\n",
              "</table>\n",
              "</div>"
            ],
            "text/plain": [
              "Gender                          F         H\n",
              "Alcohol consumption      4.629669  4.645745\n",
              "Amphet consumption       0.937033  1.737234\n",
              "Amyl consumption         0.434365  0.778723\n",
              "Benzos consumption       1.208111  1.714894\n",
              "Caffeine consumption     5.470651  5.497872\n",
              "Cannabis consumption     2.282818  3.675532\n",
              "Chocolate consumption    5.191035  5.028723\n",
              "Coke consumption         0.882604  1.429787\n",
              "Crack consumption        0.167556  0.423404\n",
              "Ecstasy consumption      0.929562  1.688298\n",
              "Heroin consumption       0.229456  0.514894\n",
              "Ketamine consumption     0.329776  0.797872\n",
              "Legal highs consumption  0.783351  1.921277\n",
              "LSD consumption          0.636073  1.469149\n",
              "Meth consumption         0.528282  1.123404\n",
              "Mushrooms consumption    0.775880  1.578723\n",
              "Nicotine consumption     2.722519  3.665957\n",
              "VSA consumption          0.297759  0.560638"
            ]
          },
          "metadata": {
            "tags": []
          },
          "execution_count": 235
        }
      ]
    },
    {
      "cell_type": "code",
      "metadata": {
        "colab": {
          "base_uri": "https://localhost:8080/",
          "height": 395
        },
        "id": "EH32VnXovPxL",
        "outputId": "1e56ad44-9d94-4b98-d6f7-ddbc1bc399b4"
      },
      "source": [
        "s.plot.bar()\n"
      ],
      "execution_count": null,
      "outputs": [
        {
          "output_type": "execute_result",
          "data": {
            "text/plain": [
              "<matplotlib.axes._subplots.AxesSubplot at 0x7fc89f03fb70>"
            ]
          },
          "metadata": {
            "tags": []
          },
          "execution_count": 236
        },
        {
          "output_type": "display_data",
          "data": {
            "image/png": "[encoded data removed]",
            "text/plain": [
              "<Figure size 432x288 with 1 Axes>"
            ]
          },
          "metadata": {
            "tags": []
          }
        }
      ]
    },
    {
      "cell_type": "markdown",
      "metadata": {
        "id": "m1dvDU7cDdGB"
      },
      "source": [
        "We can cleary see that men are more into drug than girls, exept for legal ones when they are very similar."
      ]
    },
    {
      "cell_type": "markdown",
      "metadata": {
        "id": "_XOmBxBMuwDh"
      },
      "source": [
        "## Graph depending on the use frequency"
      ]
    },
    {
      "cell_type": "markdown",
      "metadata": {
        "id": "KMSvdR35rkFl"
      },
      "source": [
        "### Frequency of Chocolate consumption"
      ]
    },
    {
      "cell_type": "code",
      "metadata": {
        "colab": {
          "base_uri": "https://localhost:8080/",
          "height": 294
        },
        "id": "xEJVj-jUQf7Z",
        "outputId": "db1bdbff-f88f-45f4-b28e-f5c0108fe22e"
      },
      "source": [
        "data_choco=data2.copy()\r\n",
        "data_choco=data_choco[data_choco[\"Chocolate consumption\"]!=0]\r\n",
        "data_choco[\"Chocolate consumption\"] = data_choco[\"Chocolate consumption\"].map({1: \"Over a decade\", 2: \"A decade\", 3:\"A year\",4: \"A month\",5:\"A week\",6:\"A day\"})\r\n",
        "bins=20\r\n",
        "plt.hist(data_choco[\"Chocolate consumption\"],bins)\r\n",
        "plt.ylabel('Persons that tried Chocolate in their life')\r\n",
        "plt.xlabel('Time since the last shot of chocolate')\r\n",
        "plt.title('Proportion of people depending on when was the last time they took Chocolate')\r\n",
        "plt.show()"
      ],
      "execution_count": null,
      "outputs": [
        {
          "output_type": "display_data",
          "data": {
            "image/png": "[encoded data removed]",
            "text/plain": [
              "<Figure size 432x288 with 1 Axes>"
            ]
          },
          "metadata": {
            "tags": []
          }
        }
      ]
    },
    {
      "cell_type": "markdown",
      "metadata": {
        "id": "sw7rprBJ1q0P"
      },
      "source": [
        "As we see, most of the respondents ate chocolate just a day ago, or a week ago, when very few of them did not eat it over a year. It is very common to be a consummer of chocolate!"
      ]
    },
    {
      "cell_type": "markdown",
      "metadata": {
        "id": "qMLPNkpv1Nv-"
      },
      "source": [
        "### Frequency of Coke consumption"
      ]
    },
    {
      "cell_type": "code",
      "metadata": {
        "colab": {
          "base_uri": "https://localhost:8080/",
          "height": 294
        },
        "id": "CltD4g7z1T_2",
        "outputId": "49e4b1f8-aa0b-40a2-f2e5-f9a00e80a500"
      },
      "source": [
        "data_coke=data2.copy()\r\n",
        "data_coke=data_coke[data_coke[\"Coke consumption\"]!=0]\r\n",
        "data_coke[\"Coke consumption\"] = data_coke[\"Coke consumption\"].map({1: \"Over a decade\", 2: \"A decade\", 3:\"A year\",4: \"A month\",5:\"A week\",6:\"A day\"})\r\n",
        "bins=20\r\n",
        "plt.hist(data_coke[\"Coke consumption\"],bins)\r\n",
        "plt.ylabel('Persons that tried Coke in their life')\r\n",
        "plt.xlabel('Time since the last shot of coke')\r\n",
        "plt.title('Proportion of people depending on when was the last time they took Coke')\r\n",
        "plt.show()"
      ],
      "execution_count": null,
      "outputs": [
        {
          "output_type": "display_data",
          "data": {
            "image/png": "[encoded data removed]",
            "text/plain": [
              "<Figure size 432x288 with 1 Axes>"
            ]
          },
          "metadata": {
            "tags": []
          }
        }
      ]
    },
    {
      "cell_type": "markdown",
      "metadata": {
        "id": "DXNPD1lH2BA8"
      },
      "source": [
        "The results for Coke is totally different that chocolate : most of the persons took coke over a year a go, when only few of them did it a day or a week ago. We can clearly see that people are less addict to Coke than to chocolate, because Coke is just a passage of their life."
      ]
    },
    {
      "cell_type": "markdown",
      "metadata": {
        "id": "HE4w1d6HiFRV"
      },
      "source": [
        "### Correlation between drug use and behavior.\n"
      ]
    },
    {
      "cell_type": "code",
      "metadata": {
        "colab": {
          "base_uri": "https://localhost:8080/",
          "height": 617
        },
        "id": "V_TlxlWPhm1b",
        "outputId": "9d83092f-de3a-42b4-f110-6b0d888c49ea"
      },
      "source": [
        "plt.subplots(1, figsize=(10, 8))\n",
        "corr_matrix=data2.corr()\n",
        "sn.heatmap(corr_matrix, cmap='PuOr')"
      ],
      "execution_count": null,
      "outputs": [
        {
          "output_type": "execute_result",
          "data": {
            "text/plain": [
              "<matplotlib.axes._subplots.AxesSubplot at 0x7fc89f399518>"
            ]
          },
          "metadata": {
            "tags": []
          },
          "execution_count": 239
        },
        {
          "output_type": "display_data",
          "data": {
            "image/png": "[encoded data removed]",
            "text/plain": [
              "<Figure size 720x576 with 2 Axes>"
            ]
          },
          "metadata": {
            "tags": []
          }
        }
      ]
    },
    {
      "cell_type": "markdown",
      "metadata": {
        "id": "-V9_GnQ6hx8Q"
      },
      "source": [
        "We can see that the consumption of chocolate, alcohol or caffeine is not correlated with the consumption of other substances.\n",
        "Indeed, we show in the last pie graphics that everyone consume them.\n"
      ]
    },
    {
      "cell_type": "markdown",
      "metadata": {
        "id": "AoHUWuYr2kDd"
      },
      "source": [
        "## Convertion to a classification problem"
      ]
    },
    {
      "cell_type": "markdown",
      "metadata": {
        "id": "wLNNvXlp07v7"
      },
      "source": [
        "From now on, we will split users into two classes: those who have never used the drug in question and those who did it. It means that we take in consideration the CL0 value, corresponding to the Non-Use and CL1, CL2, CL3, CL4, CL5, and CL6 all together showing that the person used the drug at least once in their life."
      ]
    },
    {
      "cell_type": "code",
      "metadata": {
        "id": "vVIzIOP6Qf-c"
      },
      "source": [
        "for i in data2.columns[12:32]:\r\n",
        "      data2[i] = data2[i].map(lambda x: 0 if x==0 else 1 )"
      ],
      "execution_count": null,
      "outputs": []
    },
    {
      "cell_type": "markdown",
      "metadata": {
        "id": "aXtEEG9C_cON"
      },
      "source": [
        "### Pie chart of the most used drugs\n",
        "\n",
        "\n",
        "\n",
        "\n"
      ]
    },
    {
      "cell_type": "code",
      "metadata": {
        "colab": {
          "base_uri": "https://localhost:8080/",
          "height": 364
        },
        "id": "9LTYBNdK_Zy0",
        "outputId": "d243bb85-142d-47bf-dfc0-54d1952f0347"
      },
      "source": [
        "sociology_names=[\"Age\",\r\n",
        "              \"Gender\",\r\n",
        "              \"Education level\",\r\n",
        "              \"Country number\",\r\n",
        "              \"Ethnicity number\",\"Neuroticism\",\r\n",
        "              \"Extraversion\",\r\n",
        "              \"Openess to exp\",\r\n",
        "              \"Agreeableness\",\r\n",
        "              \"Conscientiousness\",\r\n",
        "              \"Impulsiveness\",\r\n",
        "              \"Sensation seeing\"]\r\n",
        "#nb_drug is a dictionary that links each drug to number of persons that already used them once\r\n",
        "nb_drug={}\r\n",
        "for names in drug_names:\r\n",
        "  nb_drug[names]=data2[names].sum()\r\n",
        "\r\n",
        "#Convertion in dataframe\r\n",
        "nb_drug=[nb_drug]\r\n",
        "nb_drug=pd.DataFrame(nb_drug)\r\n",
        "print(nb_drug)\r\n",
        "\r\n",
        "#Pie chart\r\n",
        "plt.pie(nb_drug,labels=nb_drug.columns,autopct='%1.0f%%')\r\n",
        "plt.title('The most used drugs')\r\n",
        "plt.show()"
      ],
      "execution_count": null,
      "outputs": [
        {
          "output_type": "stream",
          "text": [
            "   Alcohol consumption  ...  VSA consumption\n",
            "0                 1844  ...              425\n",
            "\n",
            "[1 rows x 18 columns]\n"
          ],
          "name": "stdout"
        },
        {
          "output_type": "stream",
          "text": [
            "/usr/local/lib/python3.6/dist-packages/ipykernel_launcher.py:23: MatplotlibDeprecationWarning: Non-1D inputs to pie() are currently squeeze()d, but this behavior is deprecated since 3.1 and will be removed in 3.3; pass a 1D array instead.\n"
          ],
          "name": "stderr"
        },
        {
          "output_type": "display_data",
          "data": {
            "image/png": "[encoded data removed]",
            "text/plain": [
              "<Figure size 432x288 with 1 Axes>"
            ]
          },
          "metadata": {
            "tags": []
          }
        }
      ]
    },
    {
      "cell_type": "markdown",
      "metadata": {
        "id": "J4HyD8h1_iNs"
      },
      "source": [
        "The graph is pretty hard to read because most of the drugs have similar proportions. To see more clearly, we take off the legal drugs like chocolate, alcool, caffeine and nicotine."
      ]
    },
    {
      "cell_type": "code",
      "metadata": {
        "colab": {
          "base_uri": "https://localhost:8080/",
          "height": 381
        },
        "id": "_MRBTRYLE3dU",
        "outputId": "4e5b89c5-866a-4414-87f6-8f6e0e09fbe9"
      },
      "source": [
        "nb_illegal_drugs = nb_drug.copy()\r\n",
        "del nb_illegal_drugs[\"Chocolate consumption\"]\r\n",
        "del nb_illegal_drugs[\"Alcohol consumption\"]\r\n",
        "del nb_illegal_drugs[\"Nicotine consumption\"]\r\n",
        "del nb_illegal_drugs[\"Caffeine consumption\"]\r\n",
        "print(nb_illegal_drugs)\r\n",
        "\r\n",
        "#Pie chart\r\n",
        "plt.pie(nb_illegal_drugs,labels=nb_illegal_drugs.columns,autopct='%1.0f%%')\r\n",
        "plt.title('The most used drugs')\r\n",
        "plt.show()"
      ],
      "execution_count": null,
      "outputs": [
        {
          "output_type": "stream",
          "text": [
            "   Amphet consumption  Amyl consumption  ...  Mushrooms consumption  VSA consumption\n",
            "0                 904               578  ...                    895              425\n",
            "\n",
            "[1 rows x 14 columns]\n"
          ],
          "name": "stdout"
        },
        {
          "output_type": "stream",
          "text": [
            "/usr/local/lib/python3.6/dist-packages/ipykernel_launcher.py:9: MatplotlibDeprecationWarning: Non-1D inputs to pie() are currently squeeze()d, but this behavior is deprecated since 3.1 and will be removed in 3.3; pass a 1D array instead.\n",
            "  if __name__ == '__main__':\n"
          ],
          "name": "stderr"
        },
        {
          "output_type": "display_data",
          "data": {
            "image/png": "[encoded data removed]",
            "text/plain": [
              "<Figure size 432x288 with 1 Axes>"
            ]
          },
          "metadata": {
            "tags": []
          }
        }
      ]
    },
    {
      "cell_type": "markdown",
      "metadata": {
        "id": "r0qtJetDFBOX"
      },
      "source": [
        "We can notice that the Cannabis is the most used drug, then Benzos, Amphet, Ecstazy Mushrooms and Coke"
      ]
    },
    {
      "cell_type": "markdown",
      "metadata": {
        "id": "PyOh8ZkqUehz"
      },
      "source": [
        "### Comparaison between people that already tried Cannabis and the others"
      ]
    },
    {
      "cell_type": "markdown",
      "metadata": {
        "id": "0_WJ9O8hSnac"
      },
      "source": [
        "We can compare the personnality score between persons that already tried Cannabis in their life and people that never did it"
      ]
    },
    {
      "cell_type": "code",
      "metadata": {
        "colab": {
          "base_uri": "https://localhost:8080/",
          "height": 277
        },
        "id": "PefMvI57OEds",
        "outputId": "4c3752d8-a1a9-480c-da59-c810c9c8b9af"
      },
      "source": [
        "fig, ax = plt.subplots()\r\n",
        "data_cannabis=data2.copy()\r\n",
        "data_cannabis=data_cannabis[data_cannabis[\"Cannabis consumption\"]==1]\r\n",
        "\r\n",
        "data_noCan=data2.copy()\r\n",
        "data_noCan=data_noCan[data_noCan[\"Cannabis consumption\"]==0]\r\n",
        "\r\n",
        "data_openess_Can=data_cannabis[\"Openess to exp\"]\r\n",
        "data_openess_NoCan=data_noCan[\"Openess to exp\"]\r\n",
        "\r\n",
        "sn.kdeplot(data_openess_Can,color='green',shade=True, ax=ax)\r\n",
        "sn.kdeplot(data_openess_NoCan,color='blue',shade=True, ax=ax)\r\n",
        "new_labels = ['yes', 'no']\r\n",
        "plt.legend(new_labels)\r\n",
        "plt.show()"
      ],
      "execution_count": null,
      "outputs": [
        {
          "output_type": "display_data",
          "data": {
            "image/png": "[encoded data removed]",
            "text/plain": [
              "<Figure size 432x288 with 1 Axes>"
            ]
          },
          "metadata": {
            "tags": []
          }
        }
      ]
    },
    {
      "cell_type": "markdown",
      "metadata": {
        "id": "jg0dwSpGUXa6"
      },
      "source": [
        "The people that already tried Cannabis are more open to experience than the persons that never did it. For the others personnalities, it is quiet the same."
      ]
    },
    {
      "cell_type": "markdown",
      "metadata": {
        "id": "4QwfrdFigNXJ"
      },
      "source": [
        "# Modelling"
      ]
    },
    {
      "cell_type": "markdown",
      "metadata": {
        "id": "y9jsRPxEiqay"
      },
      "source": [
        "We want to predict if someone may be addict to a chosen drug or not, for all the drugs we saw, depending on his/her sociologic environment and the other drugs he/she is taking.\r\n",
        "\r\n",
        "We built x, that regroup all the parameters, and y, the drug consumption equal to 0 or 1, for each person."
      ]
    },
    {
      "cell_type": "code",
      "metadata": {
        "id": "evHsdIWSvSLf"
      },
      "source": [
        "#Set the initial problem to a classification one\n",
        "for i in data.columns[12:32]:\n",
        "      data[i] = data[i].map(lambda x: 0 if x==0 else 1 )"
      ],
      "execution_count": null,
      "outputs": []
    },
    {
      "cell_type": "markdown",
      "metadata": {
        "id": "UOtK2_4eNVD3"
      },
      "source": [
        "### GridSearch for KNN parameters"
      ]
    },
    {
      "cell_type": "markdown",
      "metadata": {
        "id": "7JEbixAYL-vm"
      },
      "source": [
        "We want know the best parameters for the different models that we draws thank to the grid search functions."
      ]
    },
    {
      "cell_type": "markdown",
      "metadata": {
        "id": "7zDo1UzWXaQX"
      },
      "source": [
        "#### KNN function"
      ]
    },
    {
      "cell_type": "code",
      "metadata": {
        "id": "8kHpvTJEL4nY"
      },
      "source": [
        "def knn_grid_search(df, Y):\n",
        "    parameters = {\"n_neighbors\": [2, 3, 5, 8 , 10], \n",
        "                  \"weights\": ['uniform', 'distance'],\n",
        "                  \"algorithm\":['auto', 'ball_tree', 'kd_tree', 'brute'], \n",
        "                    \"leaf_size\":[1,3 ]}\n",
        "    grid=GridSearchCV(KNeighborsClassifier(), parameters, verbose=0, scoring='f1_weighted')\n",
        "    grid.fit(df, Y)\n",
        "    try :grid.fit(df, Y)\n",
        "    except Exception as e : print (\"Error : [%s - 2] : %s\"%(grid_type,e) ); return -1\n",
        "\n",
        "    return grid"
      ],
      "execution_count": null,
      "outputs": []
    },
    {
      "cell_type": "code",
      "metadata": {
        "colab": {
          "background_save": true
        },
        "id": "oTmi_BFJL4yK",
        "outputId": "eaf2ee8e-88a1-4897-9745-6fb9e21a907b"
      },
      "source": [
        "parameter_knn=['n_neighbors', 'weights', 'algorithm', 'leaf_size']\n",
        "table_knn=pd.DataFrame()\n",
        "\n",
        "#Search the best parameters for each drug using the KNN method\n",
        "for drug in drug_names:\n",
        "  #The data we want to predict is one column of drug, the rest helps to predict it\n",
        "  x, y = data.drop(drug, axis=1), data[drug]\n",
        "  x_train, x_test, y_train, y_test = train_test_split(x, y, test_size=0.33)\n",
        "  #Creating the DataFrame to display the result\n",
        "  knn = knn_grid_search(x_train, y_train)\n",
        "  param_row=pd.DataFrame([knn.best_params_])\n",
        "  table_knn=pd.concat([param_row,table_knn])\n",
        "\n",
        "table_knn.columns=parameter_knn\n",
        "table_knn.index=drug_names\n",
        "print(table_knn)"
      ],
      "execution_count": null,
      "outputs": [
        {
          "output_type": "stream",
          "text": [
            "                        n_neighbors  weights  algorithm leaf_size\n",
            "Alcohol consumption            auto        1          8  distance\n",
            "Amphet consumption             auto        1          8   uniform\n",
            "Amyl consumption               auto        1         10   uniform\n",
            "Benzos consumption             auto        1          8  distance\n",
            "Caffeine consumption           auto        1          8  distance\n",
            "Cannabis consumption           auto        1         10   uniform\n",
            "Chocolate consumption          auto        1         10   uniform\n",
            "Coke consumption               auto        1          8  distance\n",
            "Crack consumption              auto        1         10  distance\n",
            "Ecstasy consumption            auto        1         10  distance\n",
            "Heroin consumption             auto        1         10  distance\n",
            "Ketamine consumption           auto        1          5   uniform\n",
            "Legal highs consumption        auto        1          5   uniform\n",
            "LSD consumption                auto        1          8   uniform\n",
            "Meth consumption               auto        1         10  distance\n",
            "Mushrooms consumption          auto        1          5  distance\n",
            "Nicotine consumption           auto        1          5   uniform\n",
            "VSA consumption                auto        1          3   uniform\n"
          ],
          "name": "stdout"
        }
      ]
    },
    {
      "cell_type": "markdown",
      "metadata": {
        "id": "r78XUeEdOOXi"
      },
      "source": [
        "We can see that the best parameters for knn model are: {'algorithm': 'auto', 'leaf_size': 1}"
      ]
    },
    {
      "cell_type": "markdown",
      "metadata": {
        "id": "PgUJNAGbTugU"
      },
      "source": [
        "### Creating models and compiling accuracies"
      ]
    },
    {
      "cell_type": "markdown",
      "metadata": {
        "id": "javZEakN83ud"
      },
      "source": [
        "We create a function that predicts the testing set for a chosen drug, and returns the table of the accuracies of each model."
      ]
    },
    {
      "cell_type": "code",
      "metadata": {
        "colab": {
          "background_save": true
        },
        "id": "FXFrLIH9gvG0"
      },
      "source": [
        "def acc_models(to_predict):\r\n",
        "\r\n",
        "  acc_table = []\r\n",
        "\r\n",
        "  # We take in consideration  all the parameters, instead the one we want to predict\r\n",
        "  x = data.copy()\r\n",
        "  del x[to_predict]\r\n",
        "  y = data[to_predict]\r\n",
        "  \r\n",
        "  # Split the data\r\n",
        "  x_train, x_test, y_train, y_test = train_test_split(x, y, test_size=0.33)\r\n",
        "\r\n",
        "  # logistic regression model\r\n",
        "  lm = LogisticRegression(max_iter=1000)\r\n",
        "  lm.fit(x_train,y_train )\r\n",
        "  lm_pred = lm.predict(x_test)\r\n",
        "  acc_lm = accuracy_score(y_true=y_test, y_pred=lm_pred)\r\n",
        "  acc_table = acc_table + [acc_lm]\r\n",
        "  # Save the model for the API\r\n",
        "  #filename = \"\"+to_predict+\"LogReg.sav\"\r\n",
        "  #pickle.dump(lm, open(filename, 'wb'))\r\n",
        "\r\n",
        "  # Decision tree model\r\n",
        "  tree= DecisionTreeClassifier()\r\n",
        "  tree.fit(x_train, y_train)\r\n",
        "  tree_pred = tree.predict(x_test)\r\n",
        "  acc_tree = accuracy_score(y_test,tree_pred)\r\n",
        "  \r\n",
        "  # random forest model\r\n",
        "  rdm_forest = RandomForestClassifier()\r\n",
        "  rdm_forest.fit(x_train, y_train)\r\n",
        "  forest_prediction = rdm_forest.predict(x_test)\r\n",
        "  acc_rdm_forest = accuracy_score(y_test, forest_prediction)\r\n",
        "\r\n",
        "  # boosting model\r\n",
        "  boosting_model = GradientBoostingClassifier()\r\n",
        "  boosting_model.fit(x_train, y_train)\r\n",
        "  boosting_prediction = boosting_model.predict(x_test)\r\n",
        "  acc_boosting=accuracy_score(y_test, boosting_prediction)\r\n",
        "\r\n",
        "  # k-Nearest Neighbor model \r\n",
        "  # We reuse the best parameters found in thank to the GridSearch method\r\n",
        "  knn_model = KNeighborsClassifier(algorithm= 'auto', leaf_size= 1)\r\n",
        "  knn_model.fit(x_train, y_train)\r\n",
        "  knn_prediction = knn_model.predict(x_test)\r\n",
        "  acc_knn = accuracy_score(y_test, knn_prediction)\r\n",
        "\r\n",
        "  # neural network model\r\n",
        "\r\n",
        "  neural_network_model = MLPClassifier()\r\n",
        "  neural_network_model.fit(x_train,y_train)\r\n",
        "  neural_network_prediction=neural_network_model.predict(x_test)\r\n",
        "  acc_neural_network_model = accuracy_score(y_test, neural_network_prediction)\r\n",
        "\r\n",
        "  acc_table = acc_table + [acc_tree] +[acc_rdm_forest,acc_boosting,acc_knn,acc_neural_network_model]\r\n",
        "\r\n",
        "  return acc_table\r\n",
        "\r\n"
      ],
      "execution_count": null,
      "outputs": []
    },
    {
      "cell_type": "markdown",
      "metadata": {
        "id": "YskNQ8s0T48D"
      },
      "source": [
        "### Comparing accuracies"
      ]
    },
    {
      "cell_type": "code",
      "metadata": {
        "id": "bGXbrihurust"
      },
      "source": [
        "model_names=[\"Logisitc reg\",\"Decision tree\", \"Random forest\", \"Boosting\", \"KNN\", \"Neural network\"]\r\n",
        "final_table=pd.DataFrame()\r\n",
        "\r\n",
        "for drug in drug_names:\r\n",
        "  acc_table = acc_models(drug)\r\n",
        "  #Add a line to the DataFrame\r\n",
        "  row_acc=pd.DataFrame([acc_table],index=[drug])\r\n",
        "  final_table=pd.concat([row_acc,final_table])\r\n",
        "\r\n",
        "final_table.columns=model_names\r\n",
        "\r\n",
        "final_table"
      ],
      "execution_count": null,
      "outputs": []
    },
    {
      "cell_type": "markdown",
      "metadata": {
        "id": "cN4-pIUkU-sv"
      },
      "source": [
        "#### Average accuracy per model"
      ]
    },
    {
      "cell_type": "code",
      "metadata": {
        "colab": {
          "background_save": true
        },
        "id": "cj-yj4RZT7yh",
        "outputId": "8eda2dd2-5c27-463b-d031-e7d611b4bdd9"
      },
      "source": [
        "#Compile the average accuracy of each model for all the drugs\r\n",
        "avg_acc=final_table.mean(axis=0)\r\n",
        "print(avg_acc)\r\n",
        "plt.figure(figsize=(12,11))\r\n",
        "plt.bar(model_names,avg_acc)\r\n",
        "plt.show()"
      ],
      "execution_count": null,
      "outputs": [
        {
          "output_type": "stream",
          "text": [
            "Logisitc reg      0.865143\n",
            "Decision tree     0.806452\n",
            "Random forest     0.864427\n",
            "Boosting          0.860753\n",
            "KNN               0.838530\n",
            "Neural network    0.855108\n",
            "dtype: float64\n"
          ],
          "name": "stdout"
        },
        {
          "output_type": "display_data",
          "data": {
            "image/png": "[encoded data removed]",
            "text/plain": [
              "<Figure size 864x792 with 1 Axes>"
            ]
          },
          "metadata": {
            "tags": []
          }
        }
      ]
    },
    {
      "cell_type": "markdown",
      "metadata": {
        "id": "0rz1cC55VK50"
      },
      "source": [
        "The Logisitic regression model is in average the best one, very close to the Random forest and the Boosting one.\n"
      ]
    },
    {
      "cell_type": "markdown",
      "metadata": {
        "id": "wcxQvvTSWfhH"
      },
      "source": [
        "#### Average accuracy per drug"
      ]
    },
    {
      "cell_type": "code",
      "metadata": {
        "colab": {
          "background_save": true
        },
        "id": "Ggw-zp8QVUvw",
        "outputId": "8e19eb53-bd1d-4142-dc94-995fdeb8a07c"
      },
      "source": [
        "#Names without \"consumption\"\r\n",
        "short_drug_names=[\"Alcohol\",\r\n",
        "              \"Amphet\",\r\n",
        "              \"Amyl\",\r\n",
        "              \"Benzos\",\r\n",
        "              \"Caffeine\",\r\n",
        "              \"Cannabis\",\r\n",
        "              \"Chocolate\",\r\n",
        "              \"Coke\",\r\n",
        "              \"Crack\",\r\n",
        "              \"Ecstasy\",\r\n",
        "              \"Heroin\",\r\n",
        "              \"Ketamine\",\r\n",
        "              \"Legal highs\",\r\n",
        "              \"LSD\",\r\n",
        "              \"Meth\",\r\n",
        "              \"Mushrooms\",\r\n",
        "              \"Nicotine\",\r\n",
        "              \"VSA\"]\r\n",
        "short_drug_names.reverse()\r\n",
        "\r\n",
        "#Average accuracies per drug for all models\r\n",
        "avg_acc2=final_table.mean(axis=1)\r\n",
        "print(avg_acc2)\r\n",
        "plt.figure(figsize=(17,8))\r\n",
        "plt.bar(short_drug_names,avg_acc2)\r\n",
        "plt.show()"
      ],
      "execution_count": null,
      "outputs": [
        {
          "output_type": "stream",
          "text": [
            "VSA consumption            0.772581\n",
            "Nicotine consumption       0.789516\n",
            "Mushrooms consumption      0.798387\n",
            "Meth consumption           0.828495\n",
            "LSD consumption            0.817742\n",
            "Legal highs consumption    0.808065\n",
            "Ketamine consumption       0.833871\n",
            "Heroin consumption         0.869086\n",
            "Ecstasy consumption        0.845699\n",
            "Crack consumption          0.878763\n",
            "Coke consumption           0.847043\n",
            "Chocolate consumption      0.976613\n",
            "Cannabis consumption       0.865860\n",
            "Caffeine consumption       0.986290\n",
            "Benzos consumption         0.738710\n",
            "Amyl consumption           0.812366\n",
            "Amphet consumption         0.825538\n",
            "Alcohol consumption        0.976613\n",
            "dtype: float64\n"
          ],
          "name": "stdout"
        },
        {
          "output_type": "display_data",
          "data": {
            "image/png": "[encoded data removed]",
            "text/plain": [
              "<Figure size 1224x576 with 1 Axes>"
            ]
          },
          "metadata": {
            "tags": []
          }
        }
      ]
    },
    {
      "cell_type": "markdown",
      "metadata": {
        "id": "vj2-d0nHWozA"
      },
      "source": [
        "We can see that the easiest drugs to predict are Caffeine, Chocolate and Alcohol, that are by the way the most used one.\r\n",
        "\r\n",
        "But, after them we can find Heroin and Cannabis and then Crack (Heroin and Crack are the one that are used the less)\r\n",
        "\r\n",
        "Thus we understand than the easiest drugs to predict are the one that are either the most or the least used."
      ]
    },
    {
      "cell_type": "markdown",
      "metadata": {
        "id": "IYRgE1bpY1el"
      },
      "source": [
        "#### Best model for the easiest drug to predict"
      ]
    },
    {
      "cell_type": "code",
      "metadata": {
        "id": "NO6jra2PY5nt"
      },
      "source": [
        "caffeine_acc=final_table[final_table.index==\"Caffeine consumption\"]\r\n",
        "caffeine_acc\r\n"
      ],
      "execution_count": null,
      "outputs": []
    }
  ]
}